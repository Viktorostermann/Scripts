{
 "cells": [
  {
   "cell_type": "markdown",
   "id": "2fa85a74",
   "metadata": {},
   "source": [
    "1 - Array: Un array es una estructura de datos que permite almacenar y manipular una \n",
    "colección de elementos de un mismo tipo de dato. En Python, los arrays son. \n",
    "Para usar un array debemos usar un modulo o debes importar la libreria numpy"
   ]
  },
  {
   "cell_type": "code",
   "execution_count": 2,
   "id": "a44c21b8",
   "metadata": {},
   "outputs": [
    {
     "name": "stdout",
     "output_type": "stream",
     "text": [
      "<class 'array.array'>\n"
     ]
    }
   ],
   "source": [
    "import array as vector\n",
    "my_array = vector.array('i', [1,2,3,4,5,6,7,8,9,10])\n",
    "print(type(my_array))"
   ]
  },
  {
   "cell_type": "code",
   "execution_count": 5,
   "id": "73424c40",
   "metadata": {},
   "outputs": [
    {
     "name": "stdout",
     "output_type": "stream",
     "text": [
      "<class 'numpy.ndarray'>\n"
     ]
    }
   ],
   "source": [
    "import numpy as np\n",
    "my_array = np.array([1,2,3,4,5,6,7,8,9,10])\n",
    "print(type(my_array))\n"
   ]
  },
  {
   "cell_type": "markdown",
   "id": "091922c1",
   "metadata": {},
   "source": [
    "2 - Los Arrays no pueden contener tipos de datos diferentes\n"
   ]
  },
  {
   "cell_type": "code",
   "execution_count": 3,
   "id": "0391c60f",
   "metadata": {},
   "outputs": [
    {
     "name": "stderr",
     "output_type": "stream",
     "text": [
      "<>:2: SyntaxWarning: str indices must be integers or slices, not tuple; perhaps you missed a comma?\n",
      "<>:2: SyntaxWarning: str indices must be integers or slices, not tuple; perhaps you missed a comma?\n",
      "C:\\Users\\vikto\\AppData\\Local\\Temp\\ipykernel_5584\\700330941.py:2: SyntaxWarning: str indices must be integers or slices, not tuple; perhaps you missed a comma?\n",
      "  my_array = array.array('i'['string',1,2,3,4,5,6,7,8,9,10, 11.8, True])\n",
      "C:\\Users\\vikto\\AppData\\Local\\Temp\\ipykernel_5584\\700330941.py:2: SyntaxWarning: str indices must be integers or slices, not tuple; perhaps you missed a comma?\n",
      "  my_array = array.array('i'['string',1,2,3,4,5,6,7,8,9,10, 11.8, True])\n",
      "C:\\Users\\vikto\\AppData\\Local\\Temp\\ipykernel_5584\\700330941.py:2: SyntaxWarning: str indices must be integers or slices, not tuple; perhaps you missed a comma?\n",
      "  my_array = array.array('i'['string',1,2,3,4,5,6,7,8,9,10, 11.8, True])\n"
     ]
    },
    {
     "ename": "TypeError",
     "evalue": "string indices must be integers",
     "output_type": "error",
     "traceback": [
      "\u001b[1;31m---------------------------------------------------------------------------\u001b[0m",
      "\u001b[1;31mTypeError\u001b[0m                                 Traceback (most recent call last)",
      "Cell \u001b[1;32mIn[3], line 2\u001b[0m\n\u001b[0;32m      1\u001b[0m \u001b[38;5;28;01mimport\u001b[39;00m\u001b[38;5;250m \u001b[39m\u001b[38;5;21;01marray\u001b[39;00m\n\u001b[1;32m----> 2\u001b[0m my_array \u001b[38;5;241m=\u001b[39m array\u001b[38;5;241m.\u001b[39marray(\u001b[38;5;124;43m'\u001b[39;49m\u001b[38;5;124;43mi\u001b[39;49m\u001b[38;5;124;43m'\u001b[39;49m\u001b[43m[\u001b[49m\u001b[38;5;124;43m'\u001b[39;49m\u001b[38;5;124;43mstring\u001b[39;49m\u001b[38;5;124;43m'\u001b[39;49m\u001b[43m,\u001b[49m\u001b[38;5;241;43m1\u001b[39;49m\u001b[43m,\u001b[49m\u001b[38;5;241;43m2\u001b[39;49m\u001b[43m,\u001b[49m\u001b[38;5;241;43m3\u001b[39;49m\u001b[43m,\u001b[49m\u001b[38;5;241;43m4\u001b[39;49m\u001b[43m,\u001b[49m\u001b[38;5;241;43m5\u001b[39;49m\u001b[43m,\u001b[49m\u001b[38;5;241;43m6\u001b[39;49m\u001b[43m,\u001b[49m\u001b[38;5;241;43m7\u001b[39;49m\u001b[43m,\u001b[49m\u001b[38;5;241;43m8\u001b[39;49m\u001b[43m,\u001b[49m\u001b[38;5;241;43m9\u001b[39;49m\u001b[43m,\u001b[49m\u001b[38;5;241;43m10\u001b[39;49m\u001b[43m,\u001b[49m\u001b[43m \u001b[49m\u001b[38;5;241;43m11.8\u001b[39;49m\u001b[43m,\u001b[49m\u001b[43m \u001b[49m\u001b[38;5;28;43;01mTrue\u001b[39;49;00m\u001b[43m]\u001b[49m)\n\u001b[0;32m      3\u001b[0m \u001b[38;5;28mprint\u001b[39m(\u001b[38;5;28mtype\u001b[39m(my_array[\u001b[38;5;241m0\u001b[39m]))\n",
      "\u001b[1;31mTypeError\u001b[0m: string indices must be integers"
     ]
    }
   ],
   "source": [
    "import array\n",
    "my_array = array.array('i'['string',1,2,3,4,5,6,7,8,9,10, 11.8, True])\n",
    "print(type(my_array[0]))"
   ]
  },
  {
   "cell_type": "code",
   "execution_count": 7,
   "id": "fd4e96ff",
   "metadata": {},
   "outputs": [
    {
     "name": "stdout",
     "output_type": "stream",
     "text": [
      "['string' '3' '7.8' 'True']\n",
      "<class 'numpy.str_'>\n"
     ]
    }
   ],
   "source": [
    "import numpy\n",
    "my_array = numpy.array(['string', 3, 7.8, True])\n",
    "print(my_array)\n",
    "print(type(my_array[2]))\n"
   ]
  },
  {
   "cell_type": "markdown",
   "id": "53ee27ba",
   "metadata": {},
   "source": [
    "3 - Debe contener elementos del mismo tamaño"
   ]
  },
  {
   "cell_type": "markdown",
   "id": "07a0e7e1",
   "metadata": {},
   "source": [
    "// - Los Arrays deben contener el mismo tamaño en cada uno de sus elementos. Ambos vectores deben tener la misma longitud."
   ]
  },
  {
   "cell_type": "code",
   "execution_count": 8,
   "id": "d9373b70",
   "metadata": {},
   "outputs": [
    {
     "ename": "TypeError",
     "evalue": "'builtin_function_or_method' object is not subscriptable",
     "output_type": "error",
     "traceback": [
      "\u001b[1;31m---------------------------------------------------------------------------\u001b[0m",
      "\u001b[1;31mTypeError\u001b[0m                                 Traceback (most recent call last)",
      "Cell \u001b[1;32mIn[8], line 2\u001b[0m\n\u001b[0;32m      1\u001b[0m \u001b[38;5;28;01mimport\u001b[39;00m\u001b[38;5;250m \u001b[39m\u001b[38;5;21;01mnumpy\u001b[39;00m\n\u001b[1;32m----> 2\u001b[0m my_array \u001b[38;5;241m=\u001b[39m \u001b[43mnumpy\u001b[49m\u001b[38;5;241;43m.\u001b[39;49m\u001b[43marray\u001b[49m\u001b[43m[\u001b[49m\u001b[38;5;124;43m\"\u001b[39;49m\u001b[38;5;124;43mManzana\u001b[39;49m\u001b[38;5;124;43m\"\u001b[39;49m\u001b[43m,\u001b[49m\u001b[43m \u001b[49m\u001b[38;5;124;43m\"\u001b[39;49m\u001b[38;5;124;43mPera\u001b[39;49m\u001b[38;5;124;43m\"\u001b[39;49m\u001b[43m,\u001b[49m\u001b[43m \u001b[49m\u001b[38;5;124;43m\"\u001b[39;49m\u001b[38;5;124;43mCereza\u001b[39;49m\u001b[38;5;124;43m\"\u001b[39;49m\u001b[43m]\u001b[49m,\n\u001b[0;32m      3\u001b[0m [\u001b[38;5;124m\"\u001b[39m\u001b[38;5;124mString\u001b[39m\u001b[38;5;124m\"\u001b[39m],\n\u001b[0;32m      4\u001b[0m [\u001b[38;5;124m\"\u001b[39m\u001b[38;5;124mBmw\u001b[39m\u001b[38;5;124m\"\u001b[39m, \u001b[38;5;124m\"\u001b[39m\u001b[38;5;124mMercedes\u001b[39m\u001b[38;5;124m\"\u001b[39m]\n",
      "\u001b[1;31mTypeError\u001b[0m: 'builtin_function_or_method' object is not subscriptable"
     ]
    }
   ],
   "source": [
    "import numpy\n",
    "my_array = numpy.array[\"Manzana\", \"Pera\", \"Cereza\"],\n",
    "[\"String\"],\n",
    "[\"Bmw\", \"Mercedes\"]\n",
    "print(my_array)\n",
    "print(type(my_array))\n"
   ]
  },
  {
   "cell_type": "markdown",
   "id": "109c4da6",
   "metadata": {},
   "source": [
    "4 - Anidamiento de Listas\n"
   ]
  },
  {
   "cell_type": "markdown",
   "id": "15a308f6",
   "metadata": {},
   "source": [
    "// - Para anidar listas hay que recordar que debes aperturar con doble corchetes \"[[\" y cerrar al final \"]]\" de la misma forma. Recordando que cada nombre de la lista debe: \n",
    "1- Ir entre comillas dobles \" \". \n",
    "2- Separar cada elemento con una coma \",\". \n",
    "3- Para anidar, cada elemento o nombre de elemento debe ir entre corchetes \"[]\" y finalizado con una coma \",\" antes del salto de linea, hasta que se complete la lista cerrando el anidamiento con doble corchetes \"]]\"."
   ]
  },
  {
   "cell_type": "code",
   "execution_count": null,
   "id": "979f9f64",
   "metadata": {},
   "outputs": [
    {
     "name": "stdout",
     "output_type": "stream",
     "text": [
      "<class 'list'>\n"
     ]
    }
   ],
   "source": [
    "lista_de_listas = [[\"Manzana\", \"Pera\", \"Cereza\", \"String\", \"Bmw\", \"Mercedes\"]]\n",
    "print(type(lista_de_listas))\n",
    "\n"
   ]
  },
  {
   "cell_type": "code",
   "execution_count": 10,
   "id": "26d87b41",
   "metadata": {},
   "outputs": [
    {
     "name": "stdout",
     "output_type": "stream",
     "text": [
      "<class 'list'>\n"
     ]
    }
   ],
   "source": [
    "lista_de_listas = [[\"Manzana\", \"Pera\", \"Cereza\"], \n",
    "[\"String\"], \n",
    "[\"Bmw\", \"Mercedes\"]]\n",
    "print(type(lista_de_listas))"
   ]
  },
  {
   "cell_type": "markdown",
   "id": "6b1e590b",
   "metadata": {},
   "source": [
    "5 - Podemos crear Arrays con numpy.arange(): Tema 4 Arrays, Clase 1"
   ]
  },
  {
   "cell_type": "code",
   "execution_count": 1,
   "id": "8a572d4b",
   "metadata": {},
   "outputs": [
    {
     "name": "stdout",
     "output_type": "stream",
     "text": [
      "[1 2 3 4 5 6 7]\n",
      "<class 'numpy.ndarray'>\n"
     ]
    }
   ],
   "source": [
    "import numpy as np\n",
    "my_array = np.arange(1,8)\n",
    "print(my_array)\n",
    "print(type(my_array))"
   ]
  },
  {
   "cell_type": "markdown",
   "id": "4d4fae71",
   "metadata": {},
   "source": [
    "6 - Creando Arrays"
   ]
  },
  {
   "cell_type": "markdown",
   "id": "f6512afb",
   "metadata": {},
   "source": [
    "// Ejemplo 1: Crea un array usando (np.zeros) para llenarlo con 0, el cual tendra 3 filas y 3 columnas con tipo numeros enteros de 64 Bit. Luego debemos cambiar el valor de las filas y la columna renombrando el Array, indicando que cada elemento de la matriz o Array sea igual a 2. Finalmente imprimir el Array.  "
   ]
  },
  {
   "cell_type": "code",
   "execution_count": 8,
   "id": "73a45791",
   "metadata": {},
   "outputs": [
    {
     "name": "stdout",
     "output_type": "stream",
     "text": [
      "[[2 2 2]\n",
      " [2 2 2]\n",
      " [2 2 2]]\n"
     ]
    }
   ],
   "source": [
    "import numpy as np\n",
    "\n",
    "a = np.zeros((3,3), dtype= np.int64)\n",
    "a [:] = 2\n",
    "print (a)\n"
   ]
  },
  {
   "cell_type": "markdown",
   "id": "d5bf182d",
   "metadata": {},
   "source": [
    "// Ejemplo 2: Creamos un Array importando la libreria numpy, usando la funcion (.arange) luego indicamos la longitud del array comenzando en; (1, y terminando en 10), el Array debemos modificarlo y cambiarlo de forma. La nueva forma debe tener 3 filas y 3 columnas. Esto lo hacemos utilizando la funcion (.reshape) Finalmente mostramos el Array con la funcion print."
   ]
  },
  {
   "cell_type": "code",
   "execution_count": 7,
   "id": "d78a5ea0",
   "metadata": {},
   "outputs": [
    {
     "name": "stdout",
     "output_type": "stream",
     "text": [
      "[1 2 3 4 5 6 7 8 9]\n",
      "[[1 2 3]\n",
      " [4 5 6]\n",
      " [7 8 9]]\n"
     ]
    }
   ],
   "source": [
    "b= np.arange(1,10)\n",
    "print (b)\n",
    "b = b.reshape((3,3))\n",
    "print (b)\n"
   ]
  },
  {
   "cell_type": "markdown",
   "id": "9f6ed2d5",
   "metadata": {},
   "source": [
    "8 - Llenar Arrays de valores"
   ]
  },
  {
   "cell_type": "markdown",
   "id": "f86cd189",
   "metadata": {},
   "source": [
    "// - Ejemplo 1: Creando un Array (a) con el metodo de la funcion (.fill), indicamos el tipo de Array (entero), ademas la cantidad de bits (64) y el valor inicial o contenido de dicho Array (a[:] = 2). Luego de haber creado el array debemos cmabiar los valores iniciales y rellenarlos con el metodo (.fill). El nuevo valor seria (8), (a.fill(8)). Finalmente imprimimos el Array (a)."
   ]
  },
  {
   "cell_type": "code",
   "execution_count": 1,
   "id": "c4ddf40e",
   "metadata": {},
   "outputs": [
    {
     "name": "stdout",
     "output_type": "stream",
     "text": [
      "[[8 8 8]\n",
      " [8 8 8]\n",
      " [8 8 8]]\n"
     ]
    }
   ],
   "source": [
    "import numpy as np\n",
    "\n",
    "a = np.zeros((3,3), dtype= np.int64)\n",
    "a [:] = 2\n",
    "a.fill (8)\n",
    "print (a)\n"
   ]
  },
  {
   "cell_type": "markdown",
   "id": "090b4a95",
   "metadata": {},
   "source": [
    "// - Ejemplo 2: Con operadores de asiganción ( + ). Creando un Array (a) con el metodo de la funcion (.zeros), indicamos el tipo de Array (entero), ademas la cantidad de bits (64) y el valor inicial o contenido de dicho Array (a[:] = 2). Luego de haber creado el array debemos cambiar los valores iniciales y rellenarlos con el operador de asignacion a (+= 6). El nuevo valor del Array (a) seria la suma de la asignacion inicial mas el nuevo valor que le indiquemos se agregue al existente. Finalmente imprimimos el Array (a)."
   ]
  },
  {
   "cell_type": "code",
   "execution_count": null,
   "id": "00752a41",
   "metadata": {},
   "outputs": [],
   "source": [
    "import numpy as np\n",
    "\n",
    "a = np.zeros((3,3), dtype= np.int64)\n",
    "a [:] = 2\n",
    "a += 6\n",
    "print (a)\n"
   ]
  },
  {
   "cell_type": "markdown",
   "id": "10cd07d4",
   "metadata": {},
   "source": [
    "// - Eejmplo 3: Con operadores de asiganción ( - ). Creando un Array (a) con el metodo de la funcion (.zeros), indicamos el tipo de Array (entero), ademas la cantidad de bits (64) y el valor inicial o contenido de dicho Array (a[:] = 2). Luego de haber creado el array debemos cambiar los valores iniciales y rellenarlos con el operador de asignacion a (-= 6). El nuevo valor del Array (a) seria la suma de la asignacion inicial mas el nuevo valor que le indiquemos se agregue al existente. Finalmente imprimimos el Array (a)."
   ]
  },
  {
   "cell_type": "code",
   "execution_count": null,
   "id": "a64960ee",
   "metadata": {},
   "outputs": [],
   "source": [
    "import numpy as np\n",
    "\n",
    "a = np.zeros((3,3), dtype= np.int64)\n",
    "a [:] = 2\n",
    "a -= 6\n",
    "print (a)\n"
   ]
  },
  {
   "cell_type": "markdown",
   "id": "669370e3",
   "metadata": {},
   "source": [
    "// Ejemplo 4: Con operadores de asiganción ( * ). Creando un Array (a) con el metodo de la funcion (.zeros), indicamos el tipo de Array (entero), ademas la cantidad de bits (64) y el valor inicial o contenido de dicho Array (a[:] = 2). Luego de haber creado el array debemos cambiar los valores iniciales y rellenarlos con el operador de asignacion a (*= 6). El nuevo valor del Array (a) seria la suma de la asignacion inicial mas el nuevo valor que le indiquemos se agregue al existente. Finalmente imprimimos el Array (a)."
   ]
  },
  {
   "cell_type": "code",
   "execution_count": null,
   "id": "e94ab6c9",
   "metadata": {},
   "outputs": [],
   "source": [
    "import numpy as np\n",
    "\n",
    "a = np.zeros((3,3), dtype= np.int64)\n",
    "a [:] = 2\n",
    "a *= 6\n",
    "print (a)\n"
   ]
  },
  {
   "cell_type": "markdown",
   "id": "50a76748",
   "metadata": {},
   "source": [
    "// - Eejmplo 5: Con operadores de asiganción ( / ). Creando un Array (a) con el metodo de la funcion (.zeros), indicamos el tipo de Array de division (/) en el mismo no podemos declarar el Array con (dtype) porque daria un error conocido, el array debe mantenerse sin asignacion de datos especifico o declarado. Ademas y por tanto, no hace falta declara la cantidad de bits (64). El valor inicial o contenido de dicho Array sera (a[:] = 2). Luego de haber creado el array debemos cambiar los valores iniciales y rellenarlos con el operador de asignacion a (/= 6). El nuevo valor del Array (a) seria la division de la asignacion inicial entre el nuevo valor que le indiquemos se agregue al existente. Finalmente imprimimos el Array (a)."
   ]
  },
  {
   "cell_type": "code",
   "execution_count": 3,
   "id": "f6bd8d49",
   "metadata": {},
   "outputs": [
    {
     "name": "stdout",
     "output_type": "stream",
     "text": [
      "[[0.33333333 0.33333333 0.33333333]\n",
      " [0.33333333 0.33333333 0.33333333]\n",
      " [0.33333333 0.33333333 0.33333333]]\n"
     ]
    }
   ],
   "source": [
    "import numpy as np\n",
    "\n",
    "a = np.zeros((3,3))\n",
    "a [:] = 2\n",
    "a /= 6\n",
    "print (a)\n"
   ]
  },
  {
   "cell_type": "markdown",
   "id": "59848262",
   "metadata": {},
   "source": [
    "8 - Sumar Arrays"
   ]
  },
  {
   "cell_type": "markdown",
   "id": "95598099",
   "metadata": {},
   "source": [
    "// Ejemplo 1, Suma de todos los elementos del Array: Creamos un Array para sumar los elementos de los Arrays con (.sum()). Indicamos el rango del array de (1,10). Luego le indicamos la forma de Array o matriz, filas y columnas, (3,3). Seguidamente impre el Array en una linea y en otra linea imprime la suma del contenido de los elemntos del Array.\n"
   ]
  },
  {
   "cell_type": "code",
   "execution_count": 2,
   "id": "51aa9fcc",
   "metadata": {},
   "outputs": [
    {
     "name": "stdout",
     "output_type": "stream",
     "text": [
      "[[1 2 3]\n",
      " [4 5 6]\n",
      " [7 8 9]]\n",
      "45\n"
     ]
    }
   ],
   "source": [
    "import numpy as np\n",
    "\n",
    "b = np.arange(1, 10).reshape((3, 3))\n",
    "suma_array = b.sum()\n",
    "print (b)\n",
    "print(suma_array)\n"
   ]
  },
  {
   "cell_type": "markdown",
   "id": "e1ff9cde",
   "metadata": {},
   "source": [
    "// Ejemplo 2, Suma de las columnas del Array: Creando un array con suma cero sum(0). Que sume las columnas del Vector"
   ]
  },
  {
   "cell_type": "code",
   "execution_count": 8,
   "id": "186530d7",
   "metadata": {},
   "outputs": [
    {
     "name": "stdout",
     "output_type": "stream",
     "text": [
      "[[1 2 3]\n",
      " [4 5 6]\n",
      " [7 8 9]] Array o Matriz del 1 al 9. Inicia la posicion desde 0.\n",
      "\n",
      "\n",
      "[12 15 18] Suma de las columnas del Array\n"
     ]
    }
   ],
   "source": [
    "import numpy as np\n",
    "\n",
    "b = np.arange(1, 10).reshape((3, 3))\n",
    "suma_array = b.sum(axis = 0)\n",
    "print (b, \"Array o Matriz del 1 al 9. Inicia la posicion desde 0.\")\n",
    "print(\"\\n\")\n",
    "print(suma_array, \"Suma de las columnas del Array\")"
   ]
  },
  {
   "cell_type": "markdown",
   "id": "74849d8b",
   "metadata": {},
   "source": [
    "// Ejemplo 3, Suma de las Filas del Array: Creando un Array que sume las filas del Vector. "
   ]
  },
  {
   "cell_type": "code",
   "execution_count": 7,
   "id": "f7ee357e",
   "metadata": {},
   "outputs": [
    {
     "name": "stdout",
     "output_type": "stream",
     "text": [
      "[[1 2 3]\n",
      " [4 5 6]\n",
      " [7 8 9]]\n",
      "\n",
      "\n",
      "[ 6 15 24]\n"
     ]
    }
   ],
   "source": [
    "import numpy as np\n",
    "\n",
    "b = np.arange(1, 10).reshape((3,3))\n",
    "suma_array = b.sum(axis=1)\n",
    "print(b)\n",
    "print(\"\\n\")\n",
    "print(suma_array)\n"
   ]
  },
  {
   "cell_type": "markdown",
   "id": "2d906845",
   "metadata": {},
   "source": [
    "9- Multiplicar Arrays"
   ]
  },
  {
   "cell_type": "markdown",
   "id": "6f4d28ee",
   "metadata": {},
   "source": [
    "// Ejemplo 1: Crear un Array y utilizar la funcion (.prod) para multiplicar todos los elementos del Array. Y asi mismo dar una forma al vector o generar una matriz de (3x3)"
   ]
  },
  {
   "cell_type": "code",
   "execution_count": null,
   "id": "434a54c7",
   "metadata": {},
   "outputs": [
    {
     "name": "stdout",
     "output_type": "stream",
     "text": [
      "[[1 2 3]\n",
      " [4 5 6]\n",
      " [7 8 9]]\n",
      "\n",
      "\n",
      "362880\n"
     ]
    }
   ],
   "source": [
    "import numpy as np\n",
    "\n",
    "b = np.arange(1,10).reshape((3,3))\n",
    "prod_array = b.prod()\n",
    "print(b)\n",
    "print(\"\\n\")\n",
    "print(prod_array, \"Resultado de la multiplicación de todos los elementos del array\") "
   ]
  },
  {
   "cell_type": "markdown",
   "id": "e3f5bebc",
   "metadata": {},
   "source": [
    "// Ejemplo 2: Crear un Array que multiplique las columnas del Vector o Matriz."
   ]
  },
  {
   "cell_type": "code",
   "execution_count": 20,
   "id": "2325bd66",
   "metadata": {},
   "outputs": [
    {
     "name": "stdout",
     "output_type": "stream",
     "text": [
      "[[1 2 3]\n",
      " [4 5 6]\n",
      " [7 8 9]]\n",
      "\n",
      "\n",
      "[ 28  80 162]  ¡ Resultado de la multiplicación de las columnas del array ! \n"
     ]
    }
   ],
   "source": [
    "import numpy as np\n",
    "\n",
    "b = np.arange(1,10).reshape((3,3))\n",
    "prod_array = b.prod(axis=0)\n",
    "print(b)\n",
    "print(\"\\n\")\n",
    "print(prod_array, \" ¡ Resultado de la multiplicación de las columnas del array ! \") "
   ]
  },
  {
   "cell_type": "markdown",
   "id": "9cfeef4d",
   "metadata": {},
   "source": [
    "// Ejemplo 3: Crear un Array que multiplique las filas del vector o Array. Y genere una matriz de 3x3."
   ]
  },
  {
   "cell_type": "code",
   "execution_count": 15,
   "id": "90c69ae6",
   "metadata": {},
   "outputs": [
    {
     "name": "stdout",
     "output_type": "stream",
     "text": [
      "[[1 2 3]\n",
      " [4 5 6]\n",
      " [7 8 9]]\n",
      "\n",
      "\n",
      "[  6 120 504]  ¡ Resultado de la multiplicación de las filas del array ! \n"
     ]
    }
   ],
   "source": [
    "import numpy as np\n",
    "\n",
    "b = np.arange(1,10).reshape((3,3))\n",
    "prod_array = b.prod(axis=1)\n",
    "print(b)\n",
    "print(\"\\n\")\n",
    "print(prod_array, \" ¡ Resultado de la multiplicación de las filas del array ! \") "
   ]
  },
  {
   "cell_type": "markdown",
   "id": "0f126c7d",
   "metadata": {},
   "source": [
    "10 - Maximo - Minimo y Valor Medio de los Elementos de un Array"
   ]
  },
  {
   "cell_type": "markdown",
   "id": "cb944ccd",
   "metadata": {},
   "source": [
    "// Ejemplo 1: Crear una Array donde hayes el Valor Medio de todos los elementos del Vector o Matriz"
   ]
  },
  {
   "cell_type": "code",
   "execution_count": 23,
   "id": "b626973c",
   "metadata": {},
   "outputs": [
    {
     "name": "stdout",
     "output_type": "stream",
     "text": [
      "[[1 2 3]\n",
      " [4 5 6]\n",
      " [7 8 9]]\n",
      "\n",
      "\n",
      "5.0  ¡ Resultado de encontrar el valor medio de todos los elementos del array ! \n"
     ]
    }
   ],
   "source": [
    "import numpy as np\n",
    "\n",
    "b = np.arange(1,10).reshape((3,3))\n",
    "mean_array = b.mean()\n",
    "print(b)\n",
    "print(\"\\n\")\n",
    "print(mean_array, \" ¡ Resultado de encontrar el valor medio de todos los elementos del array ! \")"
   ]
  },
  {
   "cell_type": "markdown",
   "id": "d23598b4",
   "metadata": {},
   "source": [
    "// Ejemplo 2: Crear un Array que permita encontrar el valor Maximo de todos los elementos del Array.\n"
   ]
  },
  {
   "cell_type": "code",
   "execution_count": 24,
   "id": "afc008e3",
   "metadata": {},
   "outputs": [
    {
     "name": "stdout",
     "output_type": "stream",
     "text": [
      "[[1 2 3]\n",
      " [4 5 6]\n",
      " [7 8 9]]\n",
      "\n",
      "\n",
      "9  ¡ Resultado de encontrar el valor medio de todos los elementos del array ! \n"
     ]
    }
   ],
   "source": [
    "import numpy as np\n",
    "\n",
    "b = np.arange(1,10).reshape((3,3))\n",
    "max_array = b.max()\n",
    "print(b)\n",
    "print(\"\\n\")\n",
    "print(max_array, \" ¡ Resultado de encontrar el valor medio de todos los elementos del array ! \")"
   ]
  },
  {
   "cell_type": "markdown",
   "id": "f6b38754",
   "metadata": {},
   "source": [
    "// Ejemplo 3: Crear un Array que encuentre el Minimo valor del vector."
   ]
  },
  {
   "cell_type": "code",
   "execution_count": 28,
   "id": "9a529b5b",
   "metadata": {},
   "outputs": [
    {
     "name": "stdout",
     "output_type": "stream",
     "text": [
      "[[1 2 3]\n",
      " [4 5 6]\n",
      " [7 8 9]]\n",
      "\n",
      "\n",
      "El numero 1, Es el resultado de encontrar el valor minimo de todos los elementos del array ! \n"
     ]
    }
   ],
   "source": [
    "import numpy as np\n",
    "\n",
    "b = np.arange(1,10).reshape((3,3))\n",
    "min_array = b.min()\n",
    "print(b)\n",
    "print(\"\\n\")\n",
    "print(f\"El numero {min_array}, Es el resultado de encontrar el valor minimo de todos los elementos del array ! \")"
   ]
  },
  {
   "cell_type": "markdown",
   "id": "0b3768d9",
   "metadata": {},
   "source": [
    "11 - Indices de Arrays y Obtencion Maximos y Minimos de los elementos de Arrays"
   ]
  },
  {
   "cell_type": "markdown",
   "id": "6829c275",
   "metadata": {},
   "source": [
    "// Ejemplo 1: Crear un Array y encontrar el Minimo del Indice de todos los elementos del Array"
   ]
  },
  {
   "cell_type": "code",
   "execution_count": 5,
   "id": "1d7b9cfe",
   "metadata": {},
   "outputs": [
    {
     "name": "stdout",
     "output_type": "stream",
     "text": [
      "[[1 2 3]\n",
      " [4 5 6]\n",
      " [7 8 9]]\n",
      "\n",
      "\n",
      "El numero 0, Es el resultado de encontrar el valor del (Idice Minimo) de todos los elementos del array ! \n"
     ]
    }
   ],
   "source": [
    "import numpy as np\n",
    "\n",
    "b = np.arange(1,10).reshape((3,3))\n",
    "min_array_id= b.argmin()\n",
    "print(b)\n",
    "print(\"\\n\")\n",
    "print(f\"El numero {min_array_id}, Es el resultado de encontrar el valor del (Idice Minimo) de todos los elementos del array ! \")"
   ]
  },
  {
   "cell_type": "markdown",
   "id": "a3ebd76e",
   "metadata": {},
   "source": [
    "// Ejemplo 2: Crear un Array y encontrar el valor maximo del Indice de todos los elementos del Array\n",
    "// https://www.w3schools.com/python/python_arrays.asp"
   ]
  },
  {
   "cell_type": "code",
   "execution_count": 4,
   "id": "7ed02b3f",
   "metadata": {},
   "outputs": [
    {
     "name": "stdout",
     "output_type": "stream",
     "text": [
      "[[1 2 3]\n",
      " [4 5 6]\n",
      " [7 8 9]]\n",
      "\n",
      "\n",
      "El numero 8, Es el resultado de encontrar el valor del (Indice Maximo) de todos los elementos del array ! \n"
     ]
    }
   ],
   "source": [
    "import numpy as np\n",
    "\n",
    "b = np.arange(1,10).reshape((3,3))\n",
    "min_array_id= b.argmax()\n",
    "print(b)\n",
    "print(\"\\n\")\n",
    "print(f\"El numero {min_array_id}, Es el resultado de encontrar el valor del (Indice Maximo) de todos los elementos del array ! \")"
   ]
  },
  {
   "cell_type": "markdown",
   "id": "cb01cf21",
   "metadata": {},
   "source": [
    "12 - Aplanar un Array usando: .reshape() + size"
   ]
  },
  {
   "cell_type": "markdown",
   "id": "ec6e9593",
   "metadata": {},
   "source": [
    "// Ejemplo 1: Aplanar un Array; "
   ]
  },
  {
   "cell_type": "code",
   "execution_count": 8,
   "id": "8aefd692",
   "metadata": {},
   "outputs": [
    {
     "name": "stdout",
     "output_type": "stream",
     "text": [
      "[[1 2 3]\n",
      " [4 5 6]\n",
      " [7 8 9]]\n",
      "\n",
      "\n",
      "La matriz anterior se ha convertido en un array plano: [1 2 3 4 5 6 7 8 9], Este es el resultado en dar formato o aplanar todos los elementos del array ! \n"
     ]
    }
   ],
   "source": [
    "import numpy as np\n",
    "\n",
    "b = np.arange(1,10).reshape((3,3))\n",
    "array_plano = b.reshape(b.size)\n",
    "print(b)\n",
    "print(\"\\n\")\n",
    "print(f\"La matriz anterior se ha convertido en un array plano: {array_plano}, Este es el resultado en dar formato o aplanar todos los elementos del array ! \")"
   ]
  },
  {
   "cell_type": "markdown",
   "id": "90e94dd2",
   "metadata": {},
   "source": [
    "// Ejemplo 2: Aplanar Array usando: .flatten() \"Este metodo crea una copia alternativa del Array\" Puede modificarse sin afectar el original. Crea un Clon independiente del Array original."
   ]
  },
  {
   "cell_type": "code",
   "execution_count": null,
   "id": "374d5739",
   "metadata": {},
   "outputs": [
    {
     "name": "stdout",
     "output_type": "stream",
     "text": [
      "[[1 2 3]\n",
      " [4 5 6]\n",
      " [7 8 9]]\n",
      "\n",
      "\n",
      "El numero [1 2 3 4 5 6 7 8 9], Es el resultado de aplanar el con Flatten() ! \n"
     ]
    }
   ],
   "source": [
    "import numpy as np\n",
    "\n",
    "b = np.arange(1,10).reshape((3,3))\n",
    "array_plano= b.flatten()\n",
    "print(b)\n",
    "print(\"\\n\")\n",
    "print(f\"El numero {array_plano}, Es el resultado de aplanar y clonar todos los elementos del array con Flatten() ! \")"
   ]
  },
  {
   "cell_type": "markdown",
   "id": "09745a35",
   "metadata": {},
   "source": [
    "// Ejemplo 3: Pasar de Lineas a Columnas usando .ravel(). \"Crea una copia del Array en la cual, se modificaria el original en caso de realizar cualquier cambio en la copia\". Afectando ambos Arrays. Crea un Espejo del mismo."
   ]
  },
  {
   "cell_type": "code",
   "execution_count": 11,
   "id": "b9fd0f5e",
   "metadata": {},
   "outputs": [
    {
     "name": "stdout",
     "output_type": "stream",
     "text": [
      "[[1 2 3]\n",
      " [4 5 6]\n",
      " [7 8 9]]\n",
      "\n",
      "\n",
      "El numero [1 2 3 4 5 6 7 8 9], Es el resultado de crear un espejo de todos los elementos del array con .ravel() ! \n"
     ]
    }
   ],
   "source": [
    "import numpy as np\n",
    "\n",
    "b = np.arange(1,10).reshape((3,3))\n",
    "array_plano= b.ravel()\n",
    "print(b)\n",
    "print(\"\\n\")\n",
    "print(f\"El numero {array_plano}, Es el resultado de crear un espejo de todos los elementos del array con .ravel() ! \")"
   ]
  },
  {
   "cell_type": "markdown",
   "id": "460742e9",
   "metadata": {},
   "source": [
    "13 - Arrays, Pasar de Lineas y Columnas a tener todo en una Linea"
   ]
  },
  {
   "cell_type": "markdown",
   "id": "248f5d44",
   "metadata": {},
   "source": [
    "// Ejemplo de 1: Pasar de Filas a Columnas los valores de un Array."
   ]
  },
  {
   "cell_type": "code",
   "execution_count": 16,
   "id": "9288c9d9",
   "metadata": {},
   "outputs": [
    {
     "name": "stdout",
     "output_type": "stream",
     "text": [
      "[[1 2 3]\n",
      " [4 5 6]\n",
      " [7 8 9]]\n",
      "\n",
      "\n",
      "Este es el resultado de Transponer los elementos de Filas a Columnas del array con .swapaxes() ! \n",
      " \n",
      "[[1 4 7]\n",
      " [2 5 8]\n",
      " [3 6 9]]\n"
     ]
    }
   ],
   "source": [
    "import numpy as np\n",
    "\n",
    "b = np.arange(1,10).reshape((3,3))\n",
    "array_transp = np.swapaxes(b, 0, 1)\n",
    "print(b)\n",
    "print(\"\\n\")\n",
    "print(f\"Este es el resultado de Transponer los elementos de Filas a Columnas del array con .swapaxes() ! \")\n",
    "print(\" \")\n",
    "print(array_transp)\n"
   ]
  },
  {
   "cell_type": "markdown",
   "id": "0ff0f9a0",
   "metadata": {},
   "source": [
    "// Ejemplo 2: Pasar de Filas a Columnas los datos de la matriz o Valores de un array."
   ]
  },
  {
   "cell_type": "code",
   "execution_count": 18,
   "id": "11a0910f",
   "metadata": {},
   "outputs": [
    {
     "name": "stdout",
     "output_type": "stream",
     "text": [
      "[[1 2 3]\n",
      " [4 5 6]\n",
      " [7 8 9]]\n",
      "\n",
      "\n",
      "Este es el resultado de Transponer los elementos de Filas a Columnas del array con .stranspose() ! \n",
      " \n",
      "[[1 4 7]\n",
      " [2 5 8]\n",
      " [3 6 9]]\n"
     ]
    }
   ],
   "source": [
    "import numpy as np\n",
    "\n",
    "b = np.arange(1,10).reshape((3,3))\n",
    "array_transp = b.transpose(1, 0)\n",
    "print(b)\n",
    "print(\"\\n\")\n",
    "print(f\"Este es el resultado de Transponer los elementos de Filas a Columnas del array con .stranspose() ! \")\n",
    "print(\" \")\n",
    "print(array_transp)"
   ]
  }
 ],
 "metadata": {
  "kernelspec": {
   "display_name": ".venv",
   "language": "python",
   "name": "python3"
  },
  "language_info": {
   "codemirror_mode": {
    "name": "ipython",
    "version": 3
   },
   "file_extension": ".py",
   "mimetype": "text/x-python",
   "name": "python",
   "nbconvert_exporter": "python",
   "pygments_lexer": "ipython3",
   "version": "3.10.11"
  }
 },
 "nbformat": 4,
 "nbformat_minor": 5
}
