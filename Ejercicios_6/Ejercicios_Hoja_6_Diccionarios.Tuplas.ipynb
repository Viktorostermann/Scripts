{
 "cells": [
  {
   "cell_type": "markdown",
   "id": "7f51ff07",
   "metadata": {},
   "source": [
    "1. Crea un diccionario vacio llamado \"mi_diccionario\"."
   ]
  },
  {
   "cell_type": "code",
   "execution_count": 1,
   "id": "25be82f9",
   "metadata": {},
   "outputs": [
    {
     "name": "stdout",
     "output_type": "stream",
     "text": [
      "<class 'dict'>\n",
      "{}\n"
     ]
    }
   ],
   "source": [
    "'''Diccionario vacio''' \n",
    "\n",
    "mi_diccionario = {}\n",
    "print(type(mi_diccionario))\n",
    "print(mi_diccionario)\n",
    "\n"
   ]
  },
  {
   "cell_type": "markdown",
   "id": "06de39a2",
   "metadata": {},
   "source": [
    "2. Agrega un par clave-valor a mi_dicionario donde la clave sea \"nombre\" y el valor sea tu nombre. Imprime el diccionario."
   ]
  },
  {
   "cell_type": "code",
   "execution_count": null,
   "id": "ff86b3b6",
   "metadata": {},
   "outputs": [
    {
     "name": "stdout",
     "output_type": "stream",
     "text": [
      "{'nombre': 'Viktor'}\n",
      "<class 'dict'>\n"
     ]
    }
   ],
   "source": [
    "'''Diccionario con Clave y con Valor''' \n",
    "\n",
    "mi_diccionario[\"nombre\"] = \"Viktor\" # Agrega un par clave-valor al diccionario\n",
    "print(mi_diccionario) # Imprime el contenido del diccionario\n",
    "print(type(mi_diccionario)) # Imprime el tipo de dato del objeto\n"
   ]
  },
  {
   "cell_type": "markdown",
   "id": "e68aa179",
   "metadata": {},
   "source": [
    "3. Accede e imprime el valor asociado con la clave \"nombre\" en \"mi_diccionario\"."
   ]
  },
  {
   "cell_type": "code",
   "execution_count": 14,
   "id": "50b59f26",
   "metadata": {},
   "outputs": [
    {
     "name": "stdout",
     "output_type": "stream",
     "text": [
      "Viktor\n"
     ]
    }
   ],
   "source": [
    "'''Acceso a Valor por Clave'''\n",
    "mi_diccionario[\"nombre\"] = \"Viktor\"\n",
    "print(mi_diccionario[\"nombre\"]) # Accede al valor asociado con la clave \"nombre\""
   ]
  },
  {
   "cell_type": "markdown",
   "id": "3dac2f0e",
   "metadata": {},
   "source": [
    "4. Verifica si la clave \"edad\" existe en \"mi_diccionario\". Imprimir \"True\" si existe, y si no existe imprimir por pantalla la palabra \"False\"."
   ]
  },
  {
   "cell_type": "code",
   "execution_count": null,
   "id": "bd4a6b15",
   "metadata": {},
   "outputs": [
    {
     "name": "stdout",
     "output_type": "stream",
     "text": [
      "False\n"
     ]
    }
   ],
   "source": [
    "''' Verifica si la clave \"edad\" existe en el diccionario '''\n",
    "\n",
    "print(\"edad\" in mi_diccionario) # Imprime True si la clave \"edad\" existe, False si no existe\n"
   ]
  },
  {
   "cell_type": "markdown",
   "id": "da988888",
   "metadata": {},
   "source": [
    "5. Crea un diccionario llamado \"estudiante\" con los siguientes pares clave-valor: \n",
    "\"nombre\" con el nombre del alumno, \"edad\" con su edad y \"materia\" con su materia \n",
    "favorita. "
   ]
  },
  {
   "cell_type": "code",
   "execution_count": null,
   "id": "c8d48f7f",
   "metadata": {},
   "outputs": [
    {
     "name": "stdout",
     "output_type": "stream",
     "text": [
      "{'nombre': 'Victor', 'apellido': 'Miletic', 'edad': 23, 'carrera': 'Ingenieria en Sistemas', 'cursos': ['Python', 'Java', 'C++', 'JavaScript', 'HTML', 'CSS']}\n"
     ]
    }
   ],
   "source": [
    "\n",
    "estudiante = { \n",
    "    \"nombre\": \"Victor\",\n",
    "    \"apellido\": \"Miletic\",\n",
    "    \"edad\": 23,\n",
    "    \"carrera\": \"Ingenieria en Sistemas\",\n",
    "    \"cursos\": [\"Python\", \"Java\", \"C++\", \"JavaScript\", \"HTML\", \"CSS\"]\n",
    "}\n",
    "print(estudiante)\n"
   ]
  },
  {
   "cell_type": "markdown",
   "id": "419b1d7c",
   "metadata": {},
   "source": [
    "6.  Actualiza el valor de la clave \"edad\" en el diccionario \"estudiante\" para reflejar la edad \n",
    "actual de tu amigo. "
   ]
  },
  {
   "cell_type": "code",
   "execution_count": null,
   "id": "beae385e",
   "metadata": {},
   "outputs": [
    {
     "name": "stdout",
     "output_type": "stream",
     "text": [
      "{'nombre': 'Victor', 'apellido': 'Miletic', 'edad': 25, 'carrera': 'Ingenieria en Sistemas', 'cursos': ['Python', 'Java', 'C++', 'JavaScript', 'HTML', 'CSS']}\n"
     ]
    }
   ],
   "source": [
    "estudiante[\"edad\"] = 25 # Actualiza el valor de la clave \"edad\" en el diccionario \"estudiante\"\n",
    "print(estudiante)"
   ]
  },
  {
   "cell_type": "markdown",
   "id": "822dd732",
   "metadata": {},
   "source": [
    "7. Elimina el par clave-valor con la clave \"materia\" del diccionario “estudiante\" con (DEL). "
   ]
  },
  {
   "cell_type": "code",
   "execution_count": null,
   "id": "05c664a1",
   "metadata": {},
   "outputs": [
    {
     "name": "stdout",
     "output_type": "stream",
     "text": [
      "{'nombre': 'Victor', 'apellido': 'Miletic', 'edad': 25, 'carrera': 'Ingenieria en Sistemas'}\n"
     ]
    }
   ],
   "source": [
    "del estudiante[\"cursos\"] # Elimina el par clave-valor con la clave \"materia\" también se puede eliminar con estudiante.pop()\n",
    "print(estudiante)"
   ]
  },
  {
   "cell_type": "markdown",
   "id": "9104b0bf",
   "metadata": {},
   "source": [
    "7.1 Elimina el par clave-valor con la clave \"materia\" del diccionario “estudiante\" con (.POP). "
   ]
  },
  {
   "cell_type": "code",
   "execution_count": 34,
   "id": "89d170f5",
   "metadata": {},
   "outputs": [
    {
     "name": "stdout",
     "output_type": "stream",
     "text": [
      "{'nombre': 'Victor', 'apellido': 'Miletic', 'edad': 25} Ingenieria en Sistemas\n"
     ]
    }
   ],
   "source": [
    "valor_carrera = estudiante.pop(\"carrera\", \"No existe\") # Elimina el par clave-valor con la clave \"materia\" y devuelve su valor, si no existe devuelve \"No existe\"\n",
    "print(estudiante, valor_carrera) # Imprime el valor eliminado o \"No existe\" si la clave no estaba en el diccionario"
   ]
  },
  {
   "cell_type": "markdown",
   "id": "68366d51",
   "metadata": {},
   "source": [
    "8.  Imprime todas las claves en el diccionario “estudiante\". "
   ]
  },
  {
   "cell_type": "code",
   "execution_count": 37,
   "id": "10494509",
   "metadata": {},
   "outputs": [
    {
     "name": "stdout",
     "output_type": "stream",
     "text": [
      "dict_keys(['nombre', 'apellido', 'edad'])\n"
     ]
    }
   ],
   "source": [
    "print(estudiante.keys()) # Imprime todas las claves en el diccionario \"estudiante\""
   ]
  },
  {
   "cell_type": "code",
   "execution_count": 36,
   "id": "2d5fd2d1",
   "metadata": {},
   "outputs": [
    {
     "name": "stdout",
     "output_type": "stream",
     "text": [
      "nombre\n",
      "apellido\n",
      "edad\n"
     ]
    }
   ],
   "source": [
    "for clave in estudiante.keys(): # Itera sobre las claves del diccionario \"estudiante\"\n",
    "    print(clave) # Imprime cada clave en una nueva línea"
   ]
  },
  {
   "cell_type": "markdown",
   "id": "c6bfb7fd",
   "metadata": {},
   "source": [
    "9. Crea un diccionario llamado \"agenda\" con tres entradas: \"Juan\" con el valor \n",
    "\"1234567890\", \"Joana\" con el valor \"9876543210\" y \"Jimena\" con el valor \n",
    "“5555555555”."
   ]
  },
  {
   "cell_type": "code",
   "execution_count": null,
   "id": "eda11a4b",
   "metadata": {},
   "outputs": [
    {
     "name": "stdout",
     "output_type": "stream",
     "text": [
      "{'Juan': '1234567890', 'Joana': '9876543210', 'Jimena': '5555555555'}\n"
     ]
    }
   ],
   "source": [
    "agenda = {\n",
    "    \"Juan\": \"1234567890\", \n",
    "    \"Joana\": \"9876543210\", \n",
    "    \"Jimena\": \"5555555555\",\n",
    "    \"Julio\" : \"9998887777\",\n",
    "    }\n",
    "print(agenda) "
   ]
  },
  {
   "cell_type": "markdown",
   "id": "78a66a08",
   "metadata": {},
   "source": [
    "10.Agrega una nueva entrada al diccionario \"agenda\" con la clave \"Julio\" y el valor \n",
    "“9998887777\". "
   ]
  },
  {
   "cell_type": "code",
   "execution_count": null,
   "id": "527342c5",
   "metadata": {},
   "outputs": [
    {
     "name": "stdout",
     "output_type": "stream",
     "text": [
      "{'Julio': '9998887777'}\n"
     ]
    }
   ],
   "source": [
    "agenda = {\"Julio\" : \"9998887777\"} # Muestra el contacto de la agenda clave-valor \"Julio\"\n",
    "print(agenda) # Imprime el contenido del diccionario \"agenda\""
   ]
  },
  {
   "cell_type": "code",
   "execution_count": null,
   "id": "090aa800",
   "metadata": {},
   "outputs": [
    {
     "name": "stdout",
     "output_type": "stream",
     "text": [
      "{'Víctor': '+34 123456789', 'Marta': '+34 987655678', 'Javier': '+34 123456789', 'Carmen': '+34 987654321', 'Julio': '9998887777'}\n"
     ]
    }
   ],
   "source": [
    "agenda[\"Julio\"] = \"9998887777\" # Asigna un nuevo contacto a la agenda llamado \"Julio\"\n",
    "print(agenda) # Imprime el contenido del diccionario \"agenda\""
   ]
  },
  {
   "cell_type": "markdown",
   "id": "f50bb49d",
   "metadata": {},
   "source": [
    "11.Imprime el número de entradas (pares clave-valor) en el diccionario “agenda\"-"
   ]
  },
  {
   "cell_type": "code",
   "execution_count": 53,
   "id": "9f828081",
   "metadata": {},
   "outputs": [
    {
     "name": "stdout",
     "output_type": "stream",
     "text": [
      "5\n"
     ]
    }
   ],
   "source": [
    "print(len(agenda)) # Imprime el numero de entradas (pares clave-valor) en el diccionario \"agenda\""
   ]
  },
  {
   "cell_type": "markdown",
   "id": "3b1185e1",
   "metadata": {},
   "source": [
    "11.1 Crea una diccionario y agrega claves y valores random, imprime el numero de entradas pares del diccionario, \"agenda\"."
   ]
  },
  {
   "cell_type": "code",
   "execution_count": null,
   "id": "8b900636",
   "metadata": {},
   "outputs": [
    {
     "name": "stdout",
     "output_type": "stream",
     "text": [
      "\n",
      "6\n",
      "\n",
      "{'Víctor': '+34 123456789', 'Marta': '+34 987655678', 'Javier': '+34 123456789', 'Carmen': '+34 987654321', 'Juan': '+34 123456789', 'Jimena': '+34 987654321'} <class 'dict'>\n"
     ]
    }
   ],
   "source": [
    "agenda = {\n",
    "    \"Víctor\": \"+34 123456789\",\n",
    "    \"Marta\" : \"+34 987655678\",\n",
    "    \"Javier\": \"+34 123456789\",\n",
    "    \"Carmen\": \"+34 987654321\",\n",
    "    \"Juan\"  : \"+34 123456789\",\n",
    "    \"Jimena\": \"+34 987654321\",\n",
    "}\n",
    "print () # Imprime el numero de entradas (pares clave-valor) en el diccionario \"agenda\"\n",
    "print(len(agenda))\n",
    "print () # Imprime el tipo de dato del diccionario \n",
    "print(agenda, type(agenda)) # Imprime el contenido del diccionario \"agenda\" y su tipo de dato"
   ]
  },
  {
   "cell_type": "markdown",
   "id": "def896c8",
   "metadata": {},
   "source": [
    "12.Crea una lista llamada \"claves\" que contenga todas las claves del diccionario \n",
    "“agenda\"."
   ]
  },
  {
   "cell_type": "code",
   "execution_count": 1,
   "id": "23a5e0bf",
   "metadata": {},
   "outputs": [
    {
     "name": "stdout",
     "output_type": "stream",
     "text": [
      "['Víctor', 'Marta', 'Javier', 'Carmen', 'Juan', 'Jimena']\n",
      "dict_keys(['Víctor', 'Marta', 'Javier', 'Carmen', 'Juan', 'Jimena'])\n",
      "dict_values(['+34 123456789', '+34 987655678', '+34 123456789', '+34 987654321', '+34 123456789', '+34 987654321'])\n",
      "dict_items([('Víctor', '+34 123456789'), ('Marta', '+34 987655678'), ('Javier', '+34 123456789'), ('Carmen', '+34 987654321'), ('Juan', '+34 123456789'), ('Jimena', '+34 987654321')])\n"
     ]
    }
   ],
   "source": [
    "agenda = {\n",
    "    \"Víctor\": \"+34 123456789\",\n",
    "    \"Marta\" : \"+34 987655678\",\n",
    "    \"Javier\": \"+34 123456789\",\n",
    "    \"Carmen\": \"+34 987654321\",\n",
    "    \"Juan\"  : \"+34 123456789\",\n",
    "    \"Jimena\" : \"+34 987654321\",\n",
    "}\n",
    "claves = list(agenda.keys()) # Convierte las claves del diccionario \"agenda\" en una lista.\n",
    "print(claves) # Imprime la lista de claves.\n",
    "print(agenda.keys()) # Imprime las claves del diccionario \"agenda\".\n",
    "print(agenda.values()) # Imprime los valores del diccionario \"agenda\".\n",
    "print(agenda.items()) # Imprime los pares clave-valor del diccionario \"agenda\".\n",
    "\n"
   ]
  },
  {
   "cell_type": "markdown",
   "id": "9b22f413",
   "metadata": {},
   "source": [
    "13.Verifica si la clave \"Juan\" existe en el diccionario \"agenda\". Imprime \"True\" si existe y \n",
    "\"False\" en caso contrario"
   ]
  },
  {
   "cell_type": "code",
   "execution_count": 86,
   "id": "37736efe",
   "metadata": {},
   "outputs": [
    {
     "name": "stdout",
     "output_type": "stream",
     "text": [
      "True\n"
     ]
    }
   ],
   "source": [
    "''' Verifica si la clave \"edad\" existe en el diccionario '''\n",
    "agenda = {\n",
    "    \"Víctor\": \"+34 123456789\",\n",
    "    \"Marta\": \"+34 987655678\",\n",
    "    \"Javier\": \"+34 123456789\",\n",
    "    \"Carmen\": \"+34 987654321\",\n",
    "    \"Juan\"  : \"+34 123456789\",\n",
    "    \"Jimena\" : \"+34 987654321\",\n",
    "}\n",
    "print(\"Juan\" in agenda) # Imprime True si la clave \"edad\" existe, False si no existe"
   ]
  },
  {
   "cell_type": "markdown",
   "id": "0ca84690",
   "metadata": {},
   "source": [
    " 14.Elimina la entrada con la clave “Jimena”. "
   ]
  },
  {
   "cell_type": "code",
   "execution_count": 87,
   "id": "fac7f2b3",
   "metadata": {},
   "outputs": [
    {
     "name": "stdout",
     "output_type": "stream",
     "text": [
      "{'Víctor': '+34 123456789', 'Marta': '+34 987655678', 'Javier': '+34 123456789', 'Carmen': '+34 987654321', 'Juan': '+34 123456789'}\n"
     ]
    }
   ],
   "source": [
    "agenda = {\n",
    "    \"Víctor\": \"+34 123456789\",\n",
    "    \"Marta\": \"+34 987655678\",\n",
    "    \"Javier\": \"+34 123456789\",\n",
    "    \"Carmen\": \"+34 987654321\",\n",
    "    \"Juan\"  : \"+34 123456789\",\n",
    "    \"Jimena\" : \"+34 987654321\",\n",
    "}\n",
    "del agenda[\"Jimena\"] # Elimina el par clave-valor con la clave \"Jimena\" del diccionario \"agenda\"\n",
    "print(agenda) # Imprime el contenido del diccionario \"agenda\" después de eliminar la clave \"Jimena\"\n"
   ]
  },
  {
   "cell_type": "markdown",
   "id": "5930bf12",
   "metadata": {},
   "source": [
    "15.Utiliza un bucle for para iterar sobre todas las claves en el diccionario \"agenda\" e \n",
    "imprime cada par clave-valor en el formato \"Nombre: Número”."
   ]
  },
  {
   "cell_type": "code",
   "execution_count": 93,
   "id": "b6896a05",
   "metadata": {},
   "outputs": [
    {
     "name": "stdout",
     "output_type": "stream",
     "text": [
      "Víctor: +34 123456789\n",
      "Marta:  +34 987655678\n",
      "Javier: +34 123456789\n",
      "Carmen: +34 987654321\n",
      "Juan:   +34 123456789\n",
      "Jimena: +34 987654321\n"
     ]
    }
   ],
   "source": [
    "agenda = {\n",
    "    \"Víctor\": \" +34 123456789\",\n",
    "    \"Marta\": \"  +34 987655678\",\n",
    "    \"Javier\": \" +34 123456789\",\n",
    "    \"Carmen\": \" +34 987654321\",\n",
    "    \"Juan\"  : \"   +34 123456789\",\n",
    "    \"Jimena\" : \" +34 987654321\",\n",
    "}\n",
    "for tupla in agenda.items(): # Imprime los pares clave-valor del diccionario \"agenda\".\n",
    "    clave, valor = tupla \n",
    "    print(clave + \":\" +valor)"
   ]
  },
  {
   "cell_type": "code",
   "execution_count": 94,
   "id": "1f8dd25f",
   "metadata": {},
   "outputs": [
    {
     "name": "stdout",
     "output_type": "stream",
     "text": [
      "Víctor: +34 123456789\n",
      "Marta:  +34 987655678\n",
      "Javier: +34 123456789\n",
      "Carmen: +34 987654321\n",
      "Juan:   +34 123456789\n",
      "Jimena: +34 987654321\n"
     ]
    }
   ],
   "source": [
    "for clave in agenda: # Imprime los pares clave-valor del diccionario \"agenda\".\n",
    "    valor = agenda[clave] \n",
    "    print(clave + \":\" +valor)"
   ]
  },
  {
   "cell_type": "markdown",
   "id": "7342b5ce",
   "metadata": {},
   "source": [
    "16.Utiliza el método \"get()\" para obtener el valor asociado con la clave \"Juan\" en el \n",
    "diccionario \"agenda\". Si la clave no existe, imprime \"Clave no encontrada”.\n"
   ]
  },
  {
   "cell_type": "code",
   "execution_count": 2,
   "id": "5aac5d4d",
   "metadata": {},
   "outputs": [
    {
     "name": "stdout",
     "output_type": "stream",
     "text": [
      "+34 123456789\n"
     ]
    }
   ],
   "source": [
    "valor_juan = agenda.get(\"Juan\", \"Clave no encontrada\") # Utiliza el método \"get()\" para obtener el valor asociado con la clave \"Juan\" en el diccionario \"agenda\". Si la clave no existe, devuelve \"Clave no encontrada\".\n",
    "print(valor_juan) # Imprime el valor asociado con la clave \"Juan\" o \"Clave no encontrada\" si la clave no existe.\n",
    "#agenda.clear() # Borra todas las entradas del diccionario \"agenda\"\n",
    "#print(agenda) # Imprime el contenido del diccionario \"agenda\" después de borrarlo"
   ]
  },
  {
   "cell_type": "markdown",
   "id": "42df6791",
   "metadata": {},
   "source": [
    " 17. Borra todas las entradas del diccionario “agenda”"
   ]
  },
  {
   "cell_type": "code",
   "execution_count": 3,
   "id": "ec8eaaa7",
   "metadata": {},
   "outputs": [
    {
     "name": "stdout",
     "output_type": "stream",
     "text": [
      "{'Víctor': '+34 123456789', 'Marta': '+34 987655678', 'Javier': '+34 123456789', 'Carmen': '+34 987654321', 'Juan': '+34 123456789', 'Jimena': '+34 987654321'}\n",
      "{}\n"
     ]
    }
   ],
   "source": [
    "print(agenda)\n",
    "agenda.clear() # Borra todas las entradas del diccionario \"agenda\"\n",
    "print(agenda) # Imprime el contenido del diccionario \"agenda\" después de borrarlo"
   ]
  },
  {
   "cell_type": "markdown",
   "id": "d93d07d4",
   "metadata": {},
   "source": [
    " LISTAS DE DICCIONARIOS:"
   ]
  },
  {
   "cell_type": "markdown",
   "id": "9b34c0e0",
   "metadata": {},
   "source": [
    "18. Crea una lista llamada \"estudiantes\" que contenga dos diccionarios. Cada diccionario \n",
    "representa a un estudiante y tiene las claves \"nombre\" y \"edad\" con sus respectivos \n",
    "valores. Recorre la lista e imprime el nombre y edad de cada estudiante."
   ]
  },
  {
   "cell_type": "code",
   "execution_count": null,
   "id": "5e25796f",
   "metadata": {},
   "outputs": [],
   "source": []
  }
 ],
 "metadata": {
  "kernelspec": {
   "display_name": ".venv",
   "language": "python",
   "name": "python3"
  },
  "language_info": {
   "codemirror_mode": {
    "name": "ipython",
    "version": 3
   },
   "file_extension": ".py",
   "mimetype": "text/x-python",
   "name": "python",
   "nbconvert_exporter": "python",
   "pygments_lexer": "ipython3",
   "version": "3.10.11"
  }
 },
 "nbformat": 4,
 "nbformat_minor": 5
}
