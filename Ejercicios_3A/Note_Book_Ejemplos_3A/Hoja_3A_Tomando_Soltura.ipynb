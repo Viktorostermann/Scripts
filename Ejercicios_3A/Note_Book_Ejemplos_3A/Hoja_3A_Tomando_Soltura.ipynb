{
 "cells": [
  {
   "cell_type": "markdown",
   "id": "f5c22ef2",
   "metadata": {},
   "source": [
    "1. Escribe un rpograma en python  para encontrar los elementos duplicados de una lista, añadirlos a una lista y eliminarlos de la lista original. Despues imprime la lista con todos los elementos unicos."
   ]
  },
  {
   "cell_type": "code",
   "execution_count": 3,
   "id": "e8a21172",
   "metadata": {},
   "outputs": [
    {
     "name": "stdout",
     "output_type": "stream",
     "text": [
      "[1, 2, 7, 3, 4, 5, 6, 3, 7, 8, 9, 8, 10]\n",
      "Elementos duplicados:  [1, 2, 4, 5, 6, 9, 10]\n",
      "Elementos unicos:  [7, 3, 8]\n",
      "Lista nueva: [1, 2, 4, 5, 6, 3, 7, 9, 8, 10]\n"
     ]
    }
   ],
   "source": [
    "lista = [1,2,7,3,4,5,6,3,7,8,9,8,10,]\n",
    "print(lista)\n",
    "\n",
    "elementos_duplicados = []\n",
    "elementos_unicos = []\n",
    "\n",
    "for elemento in lista:\n",
    "    if lista.count(elemento) > 1:\n",
    "        if elemento not in elementos_duplicados:\n",
    "           elementos_duplicados.append(elemento)\n",
    "    #lista.remove(elemento)\n",
    "    else:\n",
    "        elementos_unicos.append(elemento)\n",
    "\n",
    "    #elementos_duplicados.append(elemento)\n",
    "for elemento in elementos_duplicados:\n",
    "        lista.remove(elemento)\n",
    "\n",
    "print(\"Elementos duplicados: \", elementos_unicos)\n",
    "print(\"Elementos unicos: \", elementos_duplicados)\n",
    "print(\"Lista nueva:\", lista)\n"
   ]
  },
  {
   "cell_type": "markdown",
   "id": "32784324",
   "metadata": {},
   "source": [
    "2. Escribe un programa en python para unir dos listas y las ordene en orden ascendente."
   ]
  },
  {
   "cell_type": "code",
   "execution_count": 4,
   "id": "bcd48a94",
   "metadata": {},
   "outputs": [
    {
     "name": "stdout",
     "output_type": "stream",
     "text": [
      "Lista combinada:  [3, 4, 1, 5, 6, 2, 7, 8, 9]\n"
     ]
    }
   ],
   "source": [
    "\n",
    "lista_1 = [3,4,1,5]\n",
    "lista_2 = [6,2,7,8,9]\n",
    "\n",
    "lista_combinada = lista_1 + lista_2\n",
    "lista_combinada\n",
    "print(\"Lista combinada: \", lista_combinada)\n",
    "\n"
   ]
  },
  {
   "cell_type": "markdown",
   "id": "5966da7f",
   "metadata": {},
   "source": [
    "\n",
    "3. Escribe un script que encuentre el seguhndo numero mas grande de una lista"
   ]
  },
  {
   "cell_type": "code",
   "execution_count": 5,
   "id": "3bdcb994",
   "metadata": {},
   "outputs": [
    {
     "name": "stdout",
     "output_type": "stream",
     "text": [
      "7\n"
     ]
    }
   ],
   "source": [
    "\n",
    "numbers = [3, 1, 2, 6, 3, 4, 8, 5, 7 ]\n",
    "numbers.sort(reverse=True)\n",
    "print(numbers [1])\n"
   ]
  },
  {
   "cell_type": "markdown",
   "id": "9d2b0261",
   "metadata": {},
   "source": [
    "\n",
    "4. Crea un script que encuentre el numero de elementos mas grandes que un determinado numero dado por el usuario (supon una lista numerica)"
   ]
  },
  {
   "cell_type": "code",
   "execution_count": 6,
   "id": "fee83197",
   "metadata": {},
   "outputs": [
    {
     "name": "stdout",
     "output_type": "stream",
     "text": [
      "4\n"
     ]
    }
   ],
   "source": [
    "\n",
    "numeros = [3,1, 2, 6, 3, 4, 8, 5, 7 ]\n",
    "numero_objetivo = 4\n",
    "\n",
    "contador =0\n",
    "for num in numeros:\n",
    "    if num > numero_objetivo:\n",
    "        contador += 1\n",
    "        \n",
    "print(contador)\n",
    "    "
   ]
  },
  {
   "cell_type": "markdown",
   "id": "e896a1f1",
   "metadata": {},
   "source": [
    "5. Crea un script dado un numero introducido por el usuario, o determinado al inicio del sistema, que realiccela suma de auqelllos numeros que sean divisibles por este numero. El resultado se mostrará en pantalla."
   ]
  },
  {
   "cell_type": "code",
   "execution_count": 7,
   "id": "3165609c",
   "metadata": {},
   "outputs": [
    {
     "name": "stdout",
     "output_type": "stream",
     "text": [
      "12\n"
     ]
    }
   ],
   "source": [
    "numeros = [3,1, 2, 6, 3, 4, 8, 5, 7 ]\n",
    "divisor = 3\n",
    "\n",
    "resultado=0\n",
    "for num in numeros:\n",
    "    if num % divisor == 0:\n",
    "        resultado +=num\n",
    "print(resultado)"
   ]
  },
  {
   "cell_type": "markdown",
   "id": "bf988f18",
   "metadata": {},
   "source": [
    "6. Escribe un script que pida un numero al usuario y compruebe dada una lista encuentre el numero mas alto que es inferior al numero introducviod o determinado al inicio del programa."
   ]
  },
  {
   "cell_type": "code",
   "execution_count": 8,
   "id": "d49df47f",
   "metadata": {},
   "outputs": [
    {
     "name": "stdout",
     "output_type": "stream",
     "text": [
      "7\n"
     ]
    }
   ],
   "source": [
    "numeros = [3,1,2,6,4,8,5,7]\n",
    "numero_objetivo = 8\n",
    "numeros.sort()\n",
    "\n",
    "for num in numeros:\n",
    "    if num < numero_objetivo:\n",
    "       resultado = num\n",
    "print(resultado)"
   ]
  },
  {
   "cell_type": "markdown",
   "id": "f0c9d225",
   "metadata": {},
   "source": [
    "7. Crea un script que extraiga los elementos comunes entre dos listas."
   ]
  },
  {
   "cell_type": "code",
   "execution_count": 11,
   "id": "48caf19b",
   "metadata": {},
   "outputs": [
    {
     "name": "stdout",
     "output_type": "stream",
     "text": [
      "[1, 2, 4, 6]\n"
     ]
    }
   ],
   "source": [
    "lista_1 = [1,2,3,4,5,6]\n",
    "lista_2 = [6,2,4,7,8,6,9,1]\n",
    "comunes =[]\n",
    "\n",
    "for elemento in lista_1:\n",
    "    if elemento in lista_2:\n",
    "        comunes.append(elemento)\n",
    "print(comunes)"
   ]
  },
  {
   "cell_type": "markdown",
   "id": "34d4e125",
   "metadata": {},
   "source": [
    "8. Crea un scritp que encuentre el numero de apariciones de un elemmento de una lista, en dicha lista (P.e. en la lista=[23,65,23]) el numero de apariciones de 23 es 2."
   ]
  },
  {
   "cell_type": "code",
   "execution_count": 12,
   "id": "ac0ba1cd",
   "metadata": {},
   "outputs": [
    {
     "name": "stdout",
     "output_type": "stream",
     "text": [
      "2\n",
      "El elemento es 23, que aparece 2 veces en la lista\n",
      "El elemento es 65, que aparece 1 veces en la lista\n",
      "El elemento es 23, que aparece 2 veces en la lista\n"
     ]
    }
   ],
   "source": [
    "numeros = [23,65,23]\n",
    "objetivo = 23\n",
    "print(numeros.count(objetivo))\n",
    "for elementos in numeros:\n",
    "    print(f\"El elemento es {elementos}, que aparece {numeros.count(elementos)} veces en la lista\")\n",
    "    "
   ]
  },
  {
   "cell_type": "code",
   "execution_count": 16,
   "id": "965e2491",
   "metadata": {},
   "outputs": [
    {
     "name": "stdout",
     "output_type": "stream",
     "text": [
      "El elemento 23 aparece 2 veces en la lista\n"
     ]
    }
   ],
   "source": [
    "numeros = [23,65,23]\n",
    "objetivo = 23\n",
    "\n",
    "contador =0\n",
    "for numero in numeros:\n",
    "    if numero == objetivo:\n",
    "        contador += 1\n",
    "print(f\"El elemento {objetivo} aparece {contador} veces en la lista\")"
   ]
  },
  {
   "cell_type": "markdown",
   "id": "969f758c",
   "metadata": {},
   "source": [
    "9. Escriba un programa que lea un números enteros y cree una nueva lista que contenga solo numeros positivos de la lista original. "
   ]
  },
  {
   "cell_type": "code",
   "execution_count": 15,
   "id": "31ab8590",
   "metadata": {},
   "outputs": [
    {
     "name": "stdout",
     "output_type": "stream",
     "text": [
      "Lista original:  [-1, 2, -3, 4, -5, 6, -7, 8, -9]\n",
      "Lista de positivos:  [2, 4, 6, 8]\n"
     ]
    }
   ],
   "source": [
    "\n",
    "lista_original = [-1,2,-3,4,-5,6,-7,8,-9]\n",
    "lista_positivos = []\n",
    "\n",
    "for numero in lista_original:\n",
    "    if numero > 0:\n",
    "        lista_positivos.append(numero)\n",
    "\n",
    "print(\"Lista original: \", lista_original)\n",
    "print(\"Lista de positivos: \", lista_positivos)\n"
   ]
  },
  {
   "cell_type": "markdown",
   "id": "ed83dbe8",
   "metadata": {},
   "source": [
    "10. Escribe un script que cree una lista de strings y cree una nueva lista que contenga el tamño de la lista de los strings de la lista original"
   ]
  },
  {
   "cell_type": "code",
   "execution_count": 18,
   "id": "22bebc0e",
   "metadata": {},
   "outputs": [
    {
     "name": "stdout",
     "output_type": "stream",
     "text": [
      "Lista de strings:  ['Hola', 'estas', 'usando', 'Python', 'es', 'genial']\n",
      "Lista de longitudes:  [4, 5, 6, 6, 2, 6]\n"
     ]
    }
   ],
   "source": [
    "lista_strings = [\"Hola\", \"estas\", \"usando\", \"Python\", \"es\", \"genial\"]\n",
    "listas_longitudes =[]\n",
    "\n",
    "for strings in lista_strings:\n",
    "    longitud = len(strings)\n",
    "    listas_longitudes.append(longitud)\n",
    "\n",
    "print(\"Lista de strings: \", lista_strings)\n",
    "print(\"Lista de longitudes: \", listas_longitudes)\n"
   ]
  },
  {
   "cell_type": "code",
   "execution_count": null,
   "id": "3889a9ac",
   "metadata": {},
   "outputs": [],
   "source": [
    "lista_strings = [\"Hola\", \"estas\", \"usando\", \"Python\", \"es\", \"genial\"]\n",
    "listas_longitudes =[]\n",
    "\n",
    "for strings in lista_strings:\n",
    "    longitud = 0\n",
    "    for carcater in strings:\n",
    "        longitud += 1\n",
    "    listas_longitudes.append(longitud)\n",
    "print(listas_longitudes)\n",
    "print(\"lista de strings\", lista_strings)"
   ]
  },
  {
   "cell_type": "markdown",
   "id": "c6bfa411",
   "metadata": {},
   "source": [
    "11. Crea un programa que dada una lista de strings, devuela otra lista con los strings en Mayusculas."
   ]
  },
  {
   "cell_type": "code",
   "execution_count": 19,
   "id": "631bd92a",
   "metadata": {},
   "outputs": [
    {
     "name": "stdout",
     "output_type": "stream",
     "text": [
      "Lista de strings:  ['Hola', 'estas', 'usando', 'Python', 'es', 'genial']\n",
      "Lista de mayusculas:  ['HOLA', 'ESTAS', 'USANDO', 'PYTHON', 'ES', 'GENIAL']\n"
     ]
    }
   ],
   "source": [
    "lista_strings = [\"Hola\", \"estas\", \"usando\", \"Python\", \"es\", \"genial\"]\n",
    "listas_Mayusculas =[]\n",
    "\n",
    "for string in lista_strings:\n",
    "    listas_Mayusculas.append(string.upper())\n",
    "print(\"Lista de strings: \", lista_strings)\n",
    "print(\"Lista de mayusculas: \", listas_Mayusculas)"
   ]
  },
  {
   "cell_type": "markdown",
   "id": "1d549c8e",
   "metadata": {},
   "source": [
    "12. Escribe un programa que pida al usuario un numero entero y muestre por pantalla una estructura como la de abajo, donde el numero de asteriscos en cada fila es el numero de la fila.\n",
    "1\n",
    "12\n",
    "123\n",
    "1234\n",
    "12345\n",
    "123456\n",
    "1234567\n",
    "12345678\n",
    "123456789\n",
    "12345678910\n",
    "1234567891011\n",
    "123456789101112\n",
    "12345678910111213"
   ]
  },
  {
   "cell_type": "code",
   "execution_count": 1,
   "id": "700dd8aa",
   "metadata": {},
   "outputs": [
    {
     "name": "stdout",
     "output_type": "stream",
     "text": [
      "*\n",
      "**\n",
      "***\n",
      "****\n",
      "*****\n",
      "****\n",
      "***\n",
      "**\n",
      "*\n"
     ]
    }
   ],
   "source": [
    "num = 5 # defino una variable ti´po int\n",
    "#print(\"*\" * num) # imprimo el asterisco seguido de la variable num)\n",
    "\n",
    "# debo generar con un bucle un triangulo que inicie en 1 y termine en num = 5.\n",
    "for i in range(1, num+1): # defino un ciclo for que recorra desde 1 hasta num+1\n",
    "    #print(i) # imprimo la variable i\n",
    "    print(f\"*\" * i) # imprimo el asterisco seguido de la variable i\n",
    "\n",
    "# debo generar un triangulo que continue el triangulo del for anterioir desde num = 5 pero ahora debe decrecer\n",
    "for i in range(num-1, 0, -1): # defino un ciclo for que recorra desde num-1 hasta 0\n",
    "    #print(i) # imprimo la variable i\n",
    "    print(f\"*\" * i) # imprimo el asterisco seguido de la variable i\n"
   ]
  }
 ],
 "metadata": {
  "kernelspec": {
   "display_name": ".venv",
   "language": "python",
   "name": "python3"
  },
  "language_info": {
   "codemirror_mode": {
    "name": "ipython",
    "version": 3
   },
   "file_extension": ".py",
   "mimetype": "text/x-python",
   "name": "python",
   "nbconvert_exporter": "python",
   "pygments_lexer": "ipython3",
   "version": "3.10.11"
  }
 },
 "nbformat": 4,
 "nbformat_minor": 5
}
