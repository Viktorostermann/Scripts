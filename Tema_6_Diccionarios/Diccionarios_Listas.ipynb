{
 "cells": [
  {
   "cell_type": "markdown",
   "id": "6571f4c2",
   "metadata": {},
   "source": [
    " LISTAS DE DICCIONARIOS: "
   ]
  },
  {
   "cell_type": "markdown",
   "id": "9cfecde1",
   "metadata": {},
   "source": [
    "18. Crea una lista llamada \"estudiantes\" que contenga dos diccionarios. Cada diccionario \n",
    "representa a un estudiante y tiene las claves \"nombre\" y \"edad\" con sus respectivos \n",
    "valores. Recorre la lista e imprime el nombre y edad de cada estudiante."
   ]
  },
  {
   "cell_type": "code",
   "execution_count": 1,
   "id": "421e946d",
   "metadata": {},
   "outputs": [
    {
     "name": "stdout",
     "output_type": "stream",
     "text": [
      "Estudiante: Eduardo, Edad: 20\n",
      "Estudiante: Juan, Edad: 22\n"
     ]
    }
   ],
   "source": [
    "estudiantes = [ \n",
    "    {\"nombre\": \"Eduardo\", \"edad\": 20},\n",
    "    {\"nombre\": \"Juan\", \"edad\":22},\n",
    "]\n",
    "\n",
    "for estudiante in estudiantes:\n",
    "    nombre = estudiante[\"nombre\"]\n",
    "    edad = estudiante[\"edad\"]\n",
    "    print(f\"Estudiante: {nombre}, Edad: {edad}\")\n",
    "\n"
   ]
  },
  {
   "cell_type": "markdown",
   "id": "315f275d",
   "metadata": {},
   "source": [
    "19. Agrega un nuevo estudiante a la lista \"estudiantes\" utilizando un diccionario con las \n",
    "mismas claves \"nombre\" y \"edad\". Imprime la lista actualizada."
   ]
  },
  {
   "cell_type": "code",
   "execution_count": 2,
   "id": "9c5f93ec",
   "metadata": {},
   "outputs": [
    {
     "name": "stdout",
     "output_type": "stream",
     "text": [
      "Lista inicial de estudiantes: [{'nombre': 'Eduardo', 'edad': 20}, {'nombre': 'Juan', 'edad': 22}]\n",
      "Lista actualizada de estudiantes: [{'nombre': 'Eduardo', 'edad': 20}, {'nombre': 'Juan', 'edad': 22}, {'nombre': 'Felipe', 'edad': 20}]\n"
     ]
    }
   ],
   "source": [
    "estudiantes = [ \n",
    "    {\"nombre\": \"Eduardo\", \"edad\": 20},\n",
    "    {\"nombre\": \"Juan\", \"edad\":22},\n",
    "]\n",
    "print(f\"Lista inicial de estudiantes: {estudiantes}\")\n",
    "\n",
    "for estudiante in estudiantes:\n",
    "    nombre = estudiante[\"nombre\"]\n",
    "    edad = estudiante[\"edad\"]\n",
    "\n",
    "estudiantes.append({\"nombre\":\"Felipe\", \"edad\":20})\n",
    "print(f\"Lista actualizada de estudiantes: {estudiantes}\")\n"
   ]
  },
  {
   "cell_type": "markdown",
   "id": "cf4dc4fc",
   "metadata": {},
   "source": [
    "20. Elimina el segundo estudiante de la lista \"estudiantes\". Imprime la lista actualizada."
   ]
  },
  {
   "cell_type": "code",
   "execution_count": 3,
   "id": "1bf1d740",
   "metadata": {},
   "outputs": [
    {
     "name": "stdout",
     "output_type": "stream",
     "text": [
      "Lista inicial de estudiantes: [{'nombre': 'Eduardo', 'edad': 20}, {'nombre': 'Juan', 'edad': 22}]\n",
      "Lista actualizada de estudiantes: [{'nombre': 'Eduardo', 'edad': 20}, {'nombre': 'Juan', 'edad': 22}, {'nombre': 'Felipe', 'edad': 20}]\n",
      "Lista actualizada de estudiantes: [{'nombre': 'Eduardo', 'edad': 20}, {'nombre': 'Felipe', 'edad': 20}]\n"
     ]
    }
   ],
   "source": [
    "estudiantes = [ \n",
    "    {\"nombre\": \"Eduardo\", \"edad\": 20},\n",
    "    {\"nombre\": \"Juan\", \"edad\":22},\n",
    "]\n",
    "print(f\"Lista inicial de estudiantes: {estudiantes}\") # Lista inicial de estudiantes\n",
    "\n",
    "for estudiante in estudiantes:\n",
    "    nombre = estudiante[\"nombre\"]\n",
    "    edad = estudiante[\"edad\"]\n",
    "\n",
    "estudiantes.append({\"nombre\":\"Felipe\", \"edad\":20}) # Agregar un nuevo estudiante\n",
    "print(f\"Lista actualizada de estudiantes: {estudiantes}\") # Agregar un nuevo estudiante\n",
    "\n",
    "del estudiantes[1] # Eliminar el segundo estudiante (Juan)\n",
    "print(f\"Lista actualizada de estudiantes: {estudiantes}\") "
   ]
  },
  {
   "cell_type": "markdown",
   "id": "64385a1f",
   "metadata": {},
   "source": [
    "21. Actualiza la edad del primer estudiante en la lista \"estudiantes\" a un nuevo valor. \n",
    "Imprime la lista actualizada."
   ]
  },
  {
   "cell_type": "code",
   "execution_count": 4,
   "id": "f87f749a",
   "metadata": {},
   "outputs": [
    {
     "name": "stdout",
     "output_type": "stream",
     "text": [
      "Lista inicial de estudiantes: [{'nombre': 'Eduardo', 'edad': 20}, {'nombre': 'Juan', 'edad': 22}]\n",
      "Lista actualizada de estudiantes: [{'nombre': 'Eduardo', 'edad': 23}, {'nombre': 'Juan', 'edad': 22}]\n"
     ]
    }
   ],
   "source": [
    "estudiantes = [ \n",
    "    {\"nombre\": \"Eduardo\", \"edad\": 20},\n",
    "    {\"nombre\": \"Juan\", \"edad\":22},\n",
    "]\n",
    "print(f\"Lista inicial de estudiantes: {estudiantes}\") # Lista inicial de estudiantes\n",
    "\n",
    "estudiantes[0][\"edad\"] = 23 # Actualizar la edad del primer estudiante (Eduardo)\n",
    "print(f\"Lista actualizada de estudiantes: {estudiantes}\") # Actualizar la edad del primer estudiante (Eduardo)\n",
    "\n"
   ]
  },
  {
   "cell_type": "markdown",
   "id": "7c231b03",
   "metadata": {},
   "source": [
    "ANIDAMIENTO DE DICCIONARIOS: "
   ]
  },
  {
   "cell_type": "markdown",
   "id": "be07d8c9",
   "metadata": {},
   "source": [
    "22. Crea un diccionario llamado \"productos\" que contenga dos entradas. Cada entrada \n",
    "representa un producto y tiene a su vez las claves \"nombre\" y \"precio\" con sus \n",
    "respectivos valores. Recorre el diccionario e imprime el nombre y precio de cada \n",
    "producto."
   ]
  },
  {
   "cell_type": "code",
   "execution_count": 5,
   "id": "1c892d50",
   "metadata": {},
   "outputs": [
    {
     "name": "stdout",
     "output_type": "stream",
     "text": [
      "producto1: Manzana - Precio: 10\n",
      "producto2: Arandano - Precio: 15\n"
     ]
    }
   ],
   "source": [
    "productos = {\n",
    "\"producto1\" : {\"nombre\": \"Manzana\",  \"precio\": 10},\n",
    "\"producto2\" : {\"nombre\": \"Arandano\", \"precio\": 15},\n",
    "}\n",
    "\n",
    "for clave, valor in productos.items():\n",
    "    nombre = valor[\"nombre\"]\n",
    "    precio = valor[\"precio\"]\n",
    "    print(f\"{clave}: {valor['nombre']} - Precio: {valor['precio']}\")"
   ]
  },
  {
   "cell_type": "markdown",
   "id": "571d16a5",
   "metadata": {},
   "source": [
    "23. Agrega un nuevo producto al diccionario \"productos\" utilizando una nueva clave y \n",
    "valor. Imprime el diccionario actualizado."
   ]
  },
  {
   "cell_type": "code",
   "execution_count": 6,
   "id": "22294fdc",
   "metadata": {},
   "outputs": [
    {
     "name": "stdout",
     "output_type": "stream",
     "text": [
      "Lista actualizada de productos: {'producto1': {'nombre': 'Manzana', 'precio': 10}, 'producto2': {'nombre': 'Arandano', 'precio': 15}, 'producto3': {'nombre': 'Platanos', 'precio': 5}}\n"
     ]
    }
   ],
   "source": [
    "productos = {\n",
    "\"producto1\" : {\"nombre\": \"Manzana\",  \"precio\": 10},\n",
    "\"producto2\" : {\"nombre\": \"Arandano\", \"precio\": 15},\n",
    "}\n",
    "\n",
    "productos[\"producto3\"] = {\n",
    "\"nombre\": \"Platanos\", \"precio\": 5\n",
    "}\n",
    "\n",
    "print(f\"Lista actualizada de productos: {productos}\") # Agregar un nuevo producto"
   ]
  },
  {
   "cell_type": "markdown",
   "id": "17f692fb",
   "metadata": {},
   "source": [
    "24. Crea un diccionario llamado \"equipos\" que contenga tres entradas. Cada entrada \n",
    "representa un equipo deportivo y tiene las claves \"nombre\" y \"jugadores\" con sus \n",
    "respectivos valores. Los valores de \"jugadores\" deben ser listas con los nombres de \n",
    "los jugadores. Recorre el diccionario e imprime el nombre del equipo y la lista de \n",
    "jugadores."
   ]
  },
  {
   "cell_type": "code",
   "execution_count": 7,
   "id": "17719fc1",
   "metadata": {},
   "outputs": [
    {
     "name": "stdout",
     "output_type": "stream",
     "text": [
      "Equipo: Real Madrid\n",
      "Jugadores: ['jugador1', 'jugador2', 'jugador3']\n",
      " \n",
      "Equipo: Real Sociedad\n",
      "Jugadores: ['jugador4', 'jugador5', 'jugador6']\n",
      " \n",
      "Equipo: Sevilla\n",
      "Jugadores: ['jugador7', 'jugador8', 'jugador9']\n",
      " \n"
     ]
    }
   ],
   "source": [
    "equipos = {\n",
    "    \"equipo1\" : {\"Nombre\": \"Real Madrid\", \"Jugadores\" : [\"jugador1\", \"jugador2\", \"jugador3\"]},\n",
    "    \"equipo2\" : {\"Nombre\": \"Real Sociedad\", \"Jugadores\" : [\"jugador4\", \"jugador5\", \"jugador6\"]},\n",
    "    \"equipo3\" : {\"Nombre\": \"Sevilla\", \"Jugadores\" : [\"jugador7\", \"jugador8\", \"jugador9\"]}\n",
    "    }\n",
    "\n",
    "for clave, valor in equipos.items(): #valor (sustituye clave) y equipos.values() (sustituye equipos.items()) tambien es una opcion en el bucle for\n",
    "    nombre_equipo = valor[\"Nombre\"]\n",
    "    jugadores = valor[\"Jugadores\"]\n",
    "    print(\"Equipo:\", nombre_equipo)\n",
    "    print(\"Jugadores:\", jugadores)\n",
    "    print(\" \")"
   ]
  },
  {
   "cell_type": "markdown",
   "id": "3e4a2f4e",
   "metadata": {},
   "source": [
    "25. Agrega un nuevo equipo al diccionario \"equipos\" utilizando una nueva clave y valor. \n",
    "La lista de jugadores debe contener al menos tres nombres. Imprime el diccionario \n",
    "actualizado."
   ]
  },
  {
   "cell_type": "code",
   "execution_count": 8,
   "id": "4906d9d2",
   "metadata": {},
   "outputs": [
    {
     "name": "stdout",
     "output_type": "stream",
     "text": [
      "Lista original: {'equipo1': {'Nombre': 'Real Madrid', 'Jugadores': ['jugador1', 'jugador2', 'jugador3']}, 'equipo2': {'Nombre': 'Real Sociedad', 'Jugadores': ['jugador4', 'jugador5', 'jugador6']}, 'equipo3': {'Nombre': 'Sevilla', 'Jugadores': ['jugador7', 'jugador8', 'jugador9']}}\n",
      " \n",
      "Lista actualizada: {'equipo1': {'Nombre': 'Real Madrid', 'Jugadores': ['jugador1', 'jugador2', 'jugador3']}, 'equipo2': {'Nombre': 'Real Sociedad', 'Jugadores': ['jugador4', 'jugador5', 'jugador6']}, 'equipo3': {'Nombre': 'Sevilla', 'Jugadores': ['jugador7', 'jugador8', 'jugador9']}, 'equipo4': {'Nombre': 'Valencia', 'Jugadores': ['jugador10', 'jugador11', 'jugador12']}}\n",
      " \n",
      "La clase de objeto es: <class 'dict'>\n",
      " \n",
      "El numero de equipos es: 4\n"
     ]
    }
   ],
   "source": [
    "equipos = {\n",
    "    \"equipo1\" : {\"Nombre\": \"Real Madrid\", \"Jugadores\" : [\"jugador1\", \"jugador2\", \"jugador3\"]},\n",
    "    \"equipo2\" : {\"Nombre\": \"Real Sociedad\", \"Jugadores\" : [\"jugador4\", \"jugador5\", \"jugador6\"]},\n",
    "    \"equipo3\" : {\"Nombre\": \"Sevilla\", \"Jugadores\" : [\"jugador7\", \"jugador8\", \"jugador9\"]}\n",
    "    }\n",
    "print(\"Lista original:\", equipos)\n",
    "print(\" \")\n",
    "equipos[\"equipo4\"] = {\"Nombre\": \"Valencia\", \"Jugadores\" : [\"jugador10\", \"jugador11\", \"jugador12\"]} # Agrega un nuevo equipo\n",
    "print(\"Lista actualizada:\", equipos)\n",
    "print(\" \")\n",
    "print(\"La clase de objeto es:\", type(equipos))\n",
    "print(\" \")\n",
    "print(\"El numero de equipos es:\", len(equipos))"
   ]
  },
  {
   "cell_type": "markdown",
   "id": "26d2c238",
   "metadata": {},
   "source": [
    "26. Actualiza la lista de jugadores de uno de los equipos existentes en el diccionario \n",
    "\"equipos\". Agrega un nuevo jugador a la lista. Imprime el diccionario actualizado."
   ]
  },
  {
   "cell_type": "code",
   "execution_count": 9,
   "id": "0b3aed23",
   "metadata": {},
   "outputs": [
    {
     "name": "stdout",
     "output_type": "stream",
     "text": [
      "Lista original: {'equipo1': {'Nombre': 'Real Madrid', 'Jugadores': ['jugador1', 'jugador2', 'jugador3']}, 'equipo2': {'Nombre': 'Real Sociedad', 'Jugadores': ['jugador4', 'jugador5', 'jugador6']}, 'equipo3': {'Nombre': 'Sevilla', 'Jugadores': ['jugador7', 'jugador8', 'jugador9']}, 'equipo4': {'Nombre': 'Valencia', 'Jugadores': ['jugador10', 'jugador11', 'jugador12']}}\n",
      " \n",
      "Lista actualizada con nuevo Jugador: {'equipo1': {'Nombre': 'Real Madrid', 'Jugadores': ['jugador1', 'jugador2', 'jugador3']}, 'equipo2': {'Nombre': 'Real Sociedad', 'Jugadores': ['jugador4', 'jugador5', 'jugador6']}, 'equipo3': {'Nombre': 'Sevilla', 'Jugadores': ['jugador7', 'jugador8', 'jugador9']}, 'equipo4': {'Nombre': 'Valencia', 'Jugadores': ['jugador10', 'jugador11', 'jugador12', 'jugador13']}}\n"
     ]
    }
   ],
   "source": [
    "equipos = {\n",
    "    \"equipo1\" : {\"Nombre\": \"Real Madrid\", \"Jugadores\" : [\"jugador1\", \"jugador2\", \"jugador3\"]},\n",
    "    \"equipo2\" : {\"Nombre\": \"Real Sociedad\", \"Jugadores\" : [\"jugador4\", \"jugador5\", \"jugador6\"]},\n",
    "    \"equipo3\" : {\"Nombre\": \"Sevilla\", \"Jugadores\" : [\"jugador7\", \"jugador8\", \"jugador9\"]},\n",
    "    \"equipo4\" : {\"Nombre\": \"Valencia\", \"Jugadores\" : [\"jugador10\", \"jugador11\", \"jugador12\"]}\n",
    "    }\n",
    "print(\"Lista original:\", equipos)\n",
    "print(\" \")\n",
    "\n",
    "equipos[\"equipo4\"][\"Jugadores\"].append(\"jugador13\") # Agrega un nuevo jugador\n",
    "print(\"Lista actualizada con nuevo Jugador:\", equipos)"
   ]
  },
  {
   "cell_type": "markdown",
   "id": "687138dd",
   "metadata": {},
   "source": [
    "''' ADMINISTRACION DE PROYECTOS: \n",
    "Eres un gerente de proyectos y necesitas un programa para administrar \n",
    "las tareas y responsabilidades de tu equipo. Cada tarea tiene un nombre, \n",
    "una descripción y un responsable asignado. Implementa un programa en \n",
    "Python que utilice un diccionario para almacenar la información de las \n",
    "tareas. El programa debe permitir agregar nuevas tareas, asignar \n",
    "responsables a las tareas existentes, actualizar las descripciones de las \n",
    "tareas y mostrar la lista completa de tareas y responsables. \n",
    "(Pista: puedes comenzar con un diccionario vacío y construir un \n",
    "diccionario de diccionarios) '''"
   ]
  },
  {
   "cell_type": "code",
   "execution_count": 10,
   "id": "f5579b86",
   "metadata": {},
   "outputs": [
    {
     "name": "stdout",
     "output_type": "stream",
     "text": [
      "Tareas agregadas con exito\n",
      "---------------------------------------------------\n",
      "Responsables asignados con exito: {'Tarea1': {'Descripcion': 'Realizar analisis de requerimientos', 'Responsable': 'Elena'}, 'Tarea2': {'Descripcion': 'Desarrollar funcionalidad principal', 'Responsable': 'Maria'}, 'Tarea3': {'Descripcion': 'Realizar pruebas unitarias', 'Responsable': 'Pedro'}}\n",
      "Descripcion de la tarea 2 actualizada con exito: {'Tarea1': {'Descripcion': 'Desarrollar la interfaz de usuario', 'Responsable': 'Elena'}, 'Tarea2': {'Descripcion': 'Desarrollar la logica de negocio', 'Responsable': 'Maria'}, 'Tarea3': {'Descripcion': 'Realizar pruebas de integracion', 'Responsable': 'Pedro'}}\n",
      " \n",
      "Tarea Tarea1\n",
      "Descripcion: Desarrollar la interfaz de usuario\n",
      "Responsable: Elena\n",
      "---------------------------------------------------\n",
      " \n",
      "Tarea Tarea2\n",
      "Descripcion: Desarrollar la logica de negocio\n",
      "Responsable: Maria\n",
      "---------------------------------------------------\n",
      " \n",
      "Tarea Tarea3\n",
      "Descripcion: Realizar pruebas de integracion\n",
      "Responsable: Pedro\n",
      "---------------------------------------------------\n",
      " \n",
      "Lista de tareas y responsables: {'Tarea1': {'Descripcion': 'Desarrollar la interfaz de usuario', 'Responsable': 'Elena'}, 'Tarea2': {'Descripcion': 'Desarrollar la logica de negocio', 'Responsable': 'Maria'}, 'Tarea3': {'Descripcion': 'Realizar pruebas de integracion', 'Responsable': 'Pedro'}}\n"
     ]
    }
   ],
   "source": [
    "\n",
    "# Creamos el diccionario vacio\n",
    "tareas = {} \n",
    "\n",
    "# Agregar nuevas tareas\n",
    "tareas[\"Tarea1\"] = {\"Descripcion\": \"Realizar analisis de requerimientos\", \"Responsable\":\"Juan\"}\n",
    "tareas[\"Tarea2\"] = {\"Descripcion\": \"Desarrollar funcionalidad principal\", \"Responsable\":\"Marta\"}\n",
    "tareas[\"Tarea3\"] = {\"Descripcion\": \"Realizar pruebas unitarias\", \"Responsable\":\"Jacobo\"}\n",
    "print(\"Tareas agregadas con exito\")\n",
    "print(\"---------------------------------------------------\")\n",
    "\n",
    "#Funcion para asignar responsable a una tarea\n",
    "tareas[\"Tarea1\"][\"Responsable\"] = \"Elena\"\n",
    "tareas[\"Tarea2\"][\"Responsable\"] = \"Maria\"\n",
    "tareas[\"Tarea3\"][\"Responsable\"] = \"Pedro\"\n",
    "print(\"Responsables asignados con exito:\", tareas)\n",
    "\n",
    "# Actualizar la descripcion de una tarea\n",
    "tareas[\"Tarea1\"][\"Descripcion\"] = \"Desarrollar la interfaz de usuario\"\n",
    "tareas[\"Tarea2\"][\"Descripcion\"] = \"Desarrollar la logica de negocio\"\n",
    "tareas[\"Tarea3\"][\"Descripcion\"] = \"Realizar pruebas de integracion\"\n",
    "print(\"Descripcion de la tarea 2 actualizada con exito:\", tareas)\n",
    "print(\" \")\n",
    "\n",
    "#Mostrar la lista de tareas y responsables\n",
    "for tarea, info in tareas.items():\n",
    "    #print(f\"Tarea: {tarea}, Descripcion: {info['Descripcion']}, Responsable: {info['Responsable']}\")\n",
    "    print(\"Tarea\", tarea)\n",
    "    print(\"Descripcion:\", info[\"Descripcion\"])\n",
    "    print(\"Responsable:\", info[\"Responsable\"])\n",
    "    print(\"---------------------------------------------------\")\n",
    "    print(\" \")\n",
    "print(\"Lista de tareas y responsables:\", tareas)"
   ]
  },
  {
   "cell_type": "markdown",
   "id": "d2929a9f",
   "metadata": {},
   "source": [
    "REGISTRO DE ASISTENCIAS: \n",
    "\n",
    "Eres un profesor y deseas realizar un seguimiento de la asistencia de tus \n",
    "estudiantes a lo largo del semestre. Cada estudiante tiene un nombre y \n",
    "una lista de fechas en las que asistió a clases. Implementa un programa \n",
    "en Python que utilice un diccionario para almacenar la información de las \n",
    "asistencias. El programa debe permitir registrar la asistencia de los \n",
    "estudiantes, agregar nuevas fechas de asistencia y mostrar la lista de \n",
    "estudiantes y las fechas en las que asistieron.\n",
    " (Pista: puedes comenzar con un diccionario vacío y construir un \n",
    "diccionario de listas)"
   ]
  },
  {
   "cell_type": "code",
   "execution_count": 11,
   "id": "89c01341",
   "metadata": {},
   "outputs": [
    {
     "name": "stdout",
     "output_type": "stream",
     "text": [
      "Registro de asistencias:\n",
      " \n",
      "Estudiante: Estudiantes1\n",
      "Fechas de asistencias: 2022-01-01, 2022-01-02, 2022-01-03, 2022-01-03\n",
      "\n",
      "Estudiante: Estudiantes2\n",
      "Fechas de asistencias: 2022-01-01, 2022-01-02, 2022-01-03, 2022-01-07\n",
      "\n",
      "Estudiante: Estudiantes3\n",
      "Fechas de asistencias: 2022-01-01, 2022-01-02, 2022-01-03, 2022-01-09\n",
      "\n"
     ]
    }
   ],
   "source": [
    "# Diccionario base de datos\n",
    "\n",
    "asistencias = dict()\n",
    "\n",
    "# Registrar asistencias de estudiantes\n",
    "asistencias [\"Estudiantes1\"] = [\"2022-01-01\", \"2022-01-02\", \"2022-01-03\"] # Agrega una fecha a la lista de \n",
    "asistencias [\"Estudiantes2\"] = [\"2022-01-01\", \"2022-01-02\", \"2022-01-03\"]\n",
    "asistencias [\"Estudiantes3\"] = [\"2022-01-01\", \"2022-01-02\", \"2022-01-03\"]\n",
    "\n",
    "# Agregar nuevas fechas de asistencias para un estudiante existente\n",
    "asistencias [\"Estudiantes1\"].append(\"2022-01-03\") # Agrega la fecha \"2022-01-03\" a la lista de asistencias del estudiante \"Estudiantes1\"\n",
    "asistencias [\"Estudiantes2\"].append(\"2022-01-07\")\n",
    "asistencias [\"Estudiantes3\"].append(\"2022-01-09\")\n",
    "\n",
    "# Mostrar la lista de estudiantes y todas las fechas de asistencias para los estudiantes\n",
    "print(\"Registro de asistencias:\")\n",
    "print(\" \")\n",
    "for estudiante, fechas in asistencias.items(): # Recorrer el diccionario\n",
    "    print(\"Estudiante:\", estudiante)\n",
    "    print(\"Fechas de asistencias:\", \", \" .join(fechas)) #  Concatenar las fechas en una sola cadena\n",
    "    print()\n"
   ]
  },
  {
   "cell_type": "markdown",
   "id": "a36439a1",
   "metadata": {},
   "source": [
    "REGISTRO DE PUNTAJES:\n",
    " \n",
    "Implementa un programa en Python que permita registrar y mantener un \n",
    "seguimiento de los puntajes de un juego. El programa debe permitir a los \n",
    "jugadores ingresar sus nombres y puntajes, almacenarlos en un \n",
    "diccionario y proporcionar funcionalidades para mostrar el puntaje más \n",
    "alto, el promedio de puntajes y la cantidad total de jugadores."
   ]
  },
  {
   "cell_type": "code",
   "execution_count": 13,
   "id": "c9b32f40",
   "metadata": {},
   "outputs": [
    {
     "name": "stdout",
     "output_type": "stream",
     "text": [
      "\n",
      "--- Menú RAP ---\n",
      "1. Registrar puntaje\n",
      "2. Mostrar puntaje más alto\n",
      "3. Calcular promedio de puntajes\n",
      "4. Mostrar total de jugadores\n",
      "5. Salir\n"
     ]
    },
    {
     "ename": "KeyboardInterrupt",
     "evalue": "Interrupted by user",
     "output_type": "error",
     "traceback": [
      "\u001b[31m---------------------------------------------------------------------------\u001b[39m",
      "\u001b[31mKeyboardInterrupt\u001b[39m                         Traceback (most recent call last)",
      "\u001b[36mCell\u001b[39m\u001b[36m \u001b[39m\u001b[32mIn[13]\u001b[39m\u001b[32m, line 63\u001b[39m\n\u001b[32m     60\u001b[39m         continuar = ejecutar_opcion(opcion)\n\u001b[32m     62\u001b[39m \u001b[38;5;28;01mif\u001b[39;00m \u001b[34m__name__\u001b[39m == \u001b[33m\"\u001b[39m\u001b[33m__main__\u001b[39m\u001b[33m\"\u001b[39m:\n\u001b[32m---> \u001b[39m\u001b[32m63\u001b[39m     \u001b[43mmain\u001b[49m\u001b[43m(\u001b[49m\u001b[43m)\u001b[49m\n",
      "\u001b[36mCell\u001b[39m\u001b[36m \u001b[39m\u001b[32mIn[13]\u001b[39m\u001b[32m, line 59\u001b[39m, in \u001b[36mmain\u001b[39m\u001b[34m()\u001b[39m\n\u001b[32m     57\u001b[39m \u001b[38;5;28;01mwhile\u001b[39;00m continuar:\n\u001b[32m     58\u001b[39m     mostrar_menu()\n\u001b[32m---> \u001b[39m\u001b[32m59\u001b[39m     opcion = \u001b[38;5;28;43minput\u001b[39;49m\u001b[43m(\u001b[49m\u001b[33;43m\"\u001b[39;49m\u001b[33;43mSelecciona una opción: \u001b[39;49m\u001b[33;43m\"\u001b[39;49m\u001b[43m)\u001b[49m\n\u001b[32m     60\u001b[39m     continuar = ejecutar_opcion(opcion)\n",
      "\u001b[36mFile \u001b[39m\u001b[32m~/Documentos/2-Python/.ConquerBlocks/lib/python3.12/site-packages/ipykernel/kernelbase.py:1275\u001b[39m, in \u001b[36mKernel.raw_input\u001b[39m\u001b[34m(self, prompt)\u001b[39m\n\u001b[32m   1273\u001b[39m     msg = \u001b[33m\"\u001b[39m\u001b[33mraw_input was called, but this frontend does not support input requests.\u001b[39m\u001b[33m\"\u001b[39m\n\u001b[32m   1274\u001b[39m     \u001b[38;5;28;01mraise\u001b[39;00m StdinNotImplementedError(msg)\n\u001b[32m-> \u001b[39m\u001b[32m1275\u001b[39m \u001b[38;5;28;01mreturn\u001b[39;00m \u001b[38;5;28;43mself\u001b[39;49m\u001b[43m.\u001b[49m\u001b[43m_input_request\u001b[49m\u001b[43m(\u001b[49m\n\u001b[32m   1276\u001b[39m \u001b[43m    \u001b[49m\u001b[38;5;28;43mstr\u001b[39;49m\u001b[43m(\u001b[49m\u001b[43mprompt\u001b[49m\u001b[43m)\u001b[49m\u001b[43m,\u001b[49m\n\u001b[32m   1277\u001b[39m \u001b[43m    \u001b[49m\u001b[38;5;28;43mself\u001b[39;49m\u001b[43m.\u001b[49m\u001b[43m_parent_ident\u001b[49m\u001b[43m[\u001b[49m\u001b[33;43m\"\u001b[39;49m\u001b[33;43mshell\u001b[39;49m\u001b[33;43m\"\u001b[39;49m\u001b[43m]\u001b[49m\u001b[43m,\u001b[49m\n\u001b[32m   1278\u001b[39m \u001b[43m    \u001b[49m\u001b[38;5;28;43mself\u001b[39;49m\u001b[43m.\u001b[49m\u001b[43mget_parent\u001b[49m\u001b[43m(\u001b[49m\u001b[33;43m\"\u001b[39;49m\u001b[33;43mshell\u001b[39;49m\u001b[33;43m\"\u001b[39;49m\u001b[43m)\u001b[49m\u001b[43m,\u001b[49m\n\u001b[32m   1279\u001b[39m \u001b[43m    \u001b[49m\u001b[43mpassword\u001b[49m\u001b[43m=\u001b[49m\u001b[38;5;28;43;01mFalse\u001b[39;49;00m\u001b[43m,\u001b[49m\n\u001b[32m   1280\u001b[39m \u001b[43m\u001b[49m\u001b[43m)\u001b[49m\n",
      "\u001b[36mFile \u001b[39m\u001b[32m~/Documentos/2-Python/.ConquerBlocks/lib/python3.12/site-packages/ipykernel/kernelbase.py:1320\u001b[39m, in \u001b[36mKernel._input_request\u001b[39m\u001b[34m(self, prompt, ident, parent, password)\u001b[39m\n\u001b[32m   1317\u001b[39m \u001b[38;5;28;01mexcept\u001b[39;00m \u001b[38;5;167;01mKeyboardInterrupt\u001b[39;00m:\n\u001b[32m   1318\u001b[39m     \u001b[38;5;66;03m# re-raise KeyboardInterrupt, to truncate traceback\u001b[39;00m\n\u001b[32m   1319\u001b[39m     msg = \u001b[33m\"\u001b[39m\u001b[33mInterrupted by user\u001b[39m\u001b[33m\"\u001b[39m\n\u001b[32m-> \u001b[39m\u001b[32m1320\u001b[39m     \u001b[38;5;28;01mraise\u001b[39;00m \u001b[38;5;167;01mKeyboardInterrupt\u001b[39;00m(msg) \u001b[38;5;28;01mfrom\u001b[39;00m\u001b[38;5;250m \u001b[39m\u001b[38;5;28;01mNone\u001b[39;00m\n\u001b[32m   1321\u001b[39m \u001b[38;5;28;01mexcept\u001b[39;00m \u001b[38;5;167;01mException\u001b[39;00m:\n\u001b[32m   1322\u001b[39m     \u001b[38;5;28mself\u001b[39m.log.warning(\u001b[33m\"\u001b[39m\u001b[33mInvalid Message:\u001b[39m\u001b[33m\"\u001b[39m, exc_info=\u001b[38;5;28;01mTrue\u001b[39;00m)\n",
      "\u001b[31mKeyboardInterrupt\u001b[39m: Interrupted by user"
     ]
    }
   ],
   "source": [
    "# RAP_v2.py - Registro, Análisis y Presentación de puntajes (versión secuencial)\n",
    "\n",
    "puntajes = {}\n",
    "\n",
    "def registrar_puntaje():\n",
    "    nombre = input(\"Nombre del jugador: \")\n",
    "    try:\n",
    "        puntaje = int(input(\"Puntaje: \"))\n",
    "        puntajes[nombre] = puntaje\n",
    "        print(f\"✅ Puntaje registrado para {nombre}: {puntaje} puntos\")\n",
    "    except ValueError:\n",
    "        print(\"⚠️ Puntaje inválido. Debe ser un número entero.\")\n",
    "\n",
    "def mostrar_puntaje_mas_alto():\n",
    "    if puntajes:\n",
    "        jugador = max(puntajes, key=puntajes.get)\n",
    "        print(f\"🏆 Puntaje más alto: {jugador} con {puntajes[jugador]} puntos\")\n",
    "    else:\n",
    "        print(\"📭 No hay puntajes registrados.\")\n",
    "\n",
    "def calcular_promedio():\n",
    "    if puntajes:\n",
    "        promedio = sum(puntajes.values()) / len(puntajes)\n",
    "        print(f\"📊 Promedio de puntajes: {promedio:.2f}\")\n",
    "    else:\n",
    "        print(\"📭 No hay puntajes registrados.\")\n",
    "\n",
    "def mostrar_total_jugadores():\n",
    "    print(f\"👥 Total de jugadores: {len(puntajes)}\")\n",
    "\n",
    "def mostrar_menu():\n",
    "    print(\"\\n--- Menú RAP ---\")\n",
    "    print(\"1. Registrar puntaje\")\n",
    "    print(\"2. Mostrar puntaje más alto\")\n",
    "    print(\"3. Calcular promedio de puntajes\")\n",
    "    print(\"4. Mostrar total de jugadores\")\n",
    "    print(\"5. Salir\")\n",
    "\n",
    "def ejecutar_opcion(opcion):\n",
    "    if opcion == \"1\":\n",
    "        registrar_puntaje()\n",
    "    elif opcion == \"2\":\n",
    "        mostrar_puntaje_mas_alto()\n",
    "    elif opcion == \"3\":\n",
    "        calcular_promedio()\n",
    "    elif opcion == \"4\":\n",
    "        mostrar_total_jugadores()\n",
    "    elif opcion == \"5\":\n",
    "        print(\"👋 Saliendo del programa.\")\n",
    "        return False\n",
    "    else:\n",
    "        print(\"❌ Opción no válida. Intenta de nuevo.\")\n",
    "    return True\n",
    "\n",
    "def main():\n",
    "    continuar = True\n",
    "    while continuar:\n",
    "        mostrar_menu()\n",
    "        opcion = input(\"Selecciona una opción: \")\n",
    "        continuar = ejecutar_opcion(opcion)\n",
    "\n",
    "if __name__ == \"__main__\":\n",
    "    main()\n",
    "\n"
   ]
  }
 ],
 "metadata": {
  "kernelspec": {
   "display_name": ".ConquerBlocks (3.12.3)",
   "language": "python",
   "name": "python3"
  },
  "language_info": {
   "codemirror_mode": {
    "name": "ipython",
    "version": 3
   },
   "file_extension": ".py",
   "mimetype": "text/x-python",
   "name": "python",
   "nbconvert_exporter": "python",
   "pygments_lexer": "ipython3",
   "version": "3.12.3"
  }
 },
 "nbformat": 4,
 "nbformat_minor": 5
}
