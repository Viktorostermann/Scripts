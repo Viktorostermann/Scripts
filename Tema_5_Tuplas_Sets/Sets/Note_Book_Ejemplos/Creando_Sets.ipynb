{
 "cells": [
  {
   "cell_type": "markdown",
   "id": "14388acc",
   "metadata": {},
   "source": [
    "Teoria de Sets de Python: es una colección desordenada de elementos únicos. Es decir, no permite duplicados, y los elementos no tienen un orden específico. Son muy útiles cuando necesitas asegurarte de que no haya valores repetidos en una colección de datos."
   ]
  },
  {
   "cell_type": "code",
   "execution_count": 1,
   "id": "e2409b20",
   "metadata": {},
   "outputs": [
    {
     "name": "stdout",
     "output_type": "stream",
     "text": [
      "{1, 2, 3, 4, 5}\n",
      "{3}\n",
      "{1, 2}\n"
     ]
    }
   ],
   "source": [
    "# Crear un set\n",
    "mi_set = {1, 2, 3, 4}\n",
    "\n",
    "# También puedes usar el constructor set()\n",
    "otro_set = set([2, 3, 4, 5])\n",
    "\n",
    "# Agregar elementos\n",
    "mi_set.add(5)\n",
    "\n",
    "# Eliminar elementos\n",
    "mi_set.remove(2)  # Si el elemento no existe, lanza un error\n",
    "mi_set.discard(10)  # No lanza error si no existe\n",
    "\n",
    "# Operaciones de conjuntos\n",
    "a = {1, 2, 3}\n",
    "b = {3, 4, 5}\n",
    "\n",
    "print(a.union(b))        # {1, 2, 3, 4, 5}\n",
    "print(a.intersection(b)) # {3}\n",
    "print(a.difference(b))   # {1, 2}"
   ]
  },
  {
   "cell_type": "markdown",
   "id": "a1721168",
   "metadata": {},
   "source": [
    "1. Crea un Set y Elimina uno de sus elementos."
   ]
  },
  {
   "cell_type": "code",
   "execution_count": 16,
   "id": "b600e999",
   "metadata": {},
   "outputs": [
    {
     "name": "stdout",
     "output_type": "stream",
     "text": [
      "{1, 2, 3}\n",
      "<class 'set'>\n",
      "\n"
     ]
    }
   ],
   "source": [
    "mi_set = {1,2,3,4}\n",
    "mi_set.remove(4)\n",
    "print(mi_set)\n",
    "print(type(mi_set))\n",
    "\n",
    "print(\"\")"
   ]
  },
  {
   "cell_type": "markdown",
   "id": "b7f81e6a",
   "metadata": {},
   "source": [
    "2. Crea un Set Vacio."
   ]
  },
  {
   "cell_type": "code",
   "execution_count": 17,
   "id": "b34843ab",
   "metadata": {},
   "outputs": [
    {
     "name": "stdout",
     "output_type": "stream",
     "text": [
      "<class 'set'>\n"
     ]
    }
   ],
   "source": [
    "mi_set = set() # No se hace cobn {}\n",
    "print(type(mi_set))"
   ]
  },
  {
   "cell_type": "markdown",
   "id": "51c5d3e1",
   "metadata": {},
   "source": [
    "3. Crea dos Sets y encuentra su union, su interseccion y su diferencia."
   ]
  },
  {
   "cell_type": "code",
   "execution_count": 22,
   "id": "5b793021",
   "metadata": {},
   "outputs": [
    {
     "name": "stdout",
     "output_type": "stream",
     "text": [
      "{1, 2, 3, 4, 5, 6, 7, 8}\n",
      "<class 'set'>\n",
      "{4, 5}\n",
      "<class 'set'>\n",
      "{1, 2, 3}\n",
      "{8, 6, 7}\n"
     ]
    }
   ],
   "source": [
    "set_1 = {1, 2, 3, 4, 5}\n",
    "set_2 = {4, 5, 6, 7, 8}\n",
    "\n",
    "union_sets = set_1.union(set_2) # Unión de los sets\n",
    "print(union_sets)\n",
    "print(type(union_sets))\n",
    "\n",
    "intersection_sets = set_1.intersection(set_2) # Elementos que están en ambos sets\n",
    "print(intersection_sets)\n",
    "print(type(intersection_sets))\n",
    "\n",
    "diferencias_sets = set_1.difference(set_2) # Elementos de set_1 que no están en set_2\n",
    "print(diferencias_sets)\n",
    "\n",
    "diferencias_sets = set_2.difference(set_1) # Elementos de set_2 que no están en set_1\n",
    "print(diferencias_sets)"
   ]
  },
  {
   "cell_type": "markdown",
   "id": "ddeb0c8b",
   "metadata": {},
   "source": [
    "4. Crea un Script que dado dos Sets cree uno nuevo que contenga solo los elementos comunes de ambos Sets."
   ]
  },
  {
   "cell_type": "code",
   "execution_count": 26,
   "id": "b3886547",
   "metadata": {},
   "outputs": [
    {
     "name": "stdout",
     "output_type": "stream",
     "text": [
      "{1, 2, 3, 4, 5, 6, 7, 8}\n",
      "{4, 5}\n",
      "{1, 2, 3}\n",
      "{8, 6, 7}\n"
     ]
    }
   ],
   "source": [
    "set_1 = {1, 2, 3, 4, 5}\n",
    "set_2 = {4, 5, 6, 7, 8}\n",
    "\n",
    "set_3 = set_1.union(set_2) # Unión de los sets\n",
    "set_4 = set_1 & set_2 # Intersección de los sets\n",
    "print(set_3)\n",
    "print(set_4)\n",
    "\n",
    "set_5 = set_1 - set_2 # Diferencia de los sets\n",
    "print(set_5) # Elementos de set_1 que no están en set_2\n",
    "\n",
    "set_6 = set_2 - set_1 # Diferencia de los sets\n",
    "print(set_6) # Elementos de set_2 que no están en set_1\n"
   ]
  },
  {
   "cell_type": "markdown",
   "id": "2d703c5b",
   "metadata": {},
   "source": [
    "5. Crea un Srcipt que dado un Set con números devuelva el numero maximo y el mínimo."
   ]
  },
  {
   "cell_type": "code",
   "execution_count": 31,
   "id": "ac3e28ed",
   "metadata": {},
   "outputs": [
    {
     "name": "stdout",
     "output_type": "stream",
     "text": [
      " Mi Set maximo es 5 y mi Set mínimo es 1\n"
     ]
    }
   ],
   "source": [
    "mi_set = { 1, 2, 3, 4, 5 }\n",
    "\n",
    "mi_set_Maximo = max(mi_set) # Máximo del set\n",
    "mi_set_Minimo = min(mi_set) # Mínimo del set\n",
    "print(f\" Mi Set maximo es {mi_set_Maximo} y mi Set mínimo es {mi_set_Minimo}\") # Operación con el máximo y mínimo del set\n"
   ]
  },
  {
   "cell_type": "markdown",
   "id": "699dfac7",
   "metadata": {},
   "source": [
    "6. Crea un Script que dados dos sets cree uno nuevo solo con los elementos unicos de cada uno de los Sets"
   ]
  },
  {
   "cell_type": "code",
   "execution_count": 32,
   "id": "72b9bc22",
   "metadata": {},
   "outputs": [
    {
     "name": "stdout",
     "output_type": "stream",
     "text": [
      "{1, 2, 3, 6, 7, 8}\n"
     ]
    }
   ],
   "source": [
    "set_1 = { 1, 2, 3, 4, 5}\n",
    "set_2 = { 4, 5, 6, 7, 8}\n",
    "set_3 = set_1.symmetric_difference(set_2) # Elementos que están en uno de los sets pero no en ambos\n",
    "print(set_3)\n"
   ]
  },
  {
   "cell_type": "markdown",
   "id": "fb86e87c",
   "metadata": {},
   "source": [
    "7. Crea Set con colores y comprueba si cierto color se encuentra en el Set."
   ]
  },
  {
   "cell_type": "code",
   "execution_count": 33,
   "id": "3d8996af",
   "metadata": {},
   "outputs": [
    {
     "name": "stdout",
     "output_type": "stream",
     "text": [
      "True\n"
     ]
    }
   ],
   "source": [
    "mi_set = {\"Azul\", \"Verde\", \"Lila\"}\n",
    "pertenencia = \"Lila\" in mi_set\n",
    "print(pertenencia)"
   ]
  },
  {
   "cell_type": "markdown",
   "id": "5e6c4e90",
   "metadata": {},
   "source": [
    "8. Crea un Script que dados dos sets cree uno nuevo solo con los elementos unicos del Set uno pero no en el Set Dos."
   ]
  },
  {
   "cell_type": "code",
   "execution_count": 35,
   "id": "ce8754c1",
   "metadata": {},
   "outputs": [
    {
     "name": "stdout",
     "output_type": "stream",
     "text": [
      "{'Lila', 'Azul'}\n"
     ]
    }
   ],
   "source": [
    "mi_set_1 = {\"Azul\", \"Verde\", \"Lila\"} # Definición de dos sets\n",
    "mi_set_2 = {\"Rojo\", \"Verde\", \"Amarillo\"} # Definición de dos sets\n",
    "\n",
    "mi_set_3 = mi_set_1.difference(mi_set_2) # Elementos de mi_set_1 que no están en mi_set_2\n",
    "print(mi_set_3)\n"
   ]
  },
  {
   "cell_type": "code",
   "execution_count": null,
   "id": "e5afa288",
   "metadata": {},
   "outputs": [
    {
     "name": "stdout",
     "output_type": "stream",
     "text": [
      "6\n"
     ]
    }
   ],
   "source": [
    "import numpy as np\n",
    "# Creando un set\n",
    "#mi_set = set([1,2,3,4,5])\n",
    "#print (mi_set)\n",
    "\n",
    "# Creando un set con un array\n",
    "mi_array = np.array ([[1,2,3] , [4,5,6], [7,8,9]])\n",
    "print (mi_array[1] [2])\n",
    "\n",
    "\n"
   ]
  },
  {
   "cell_type": "code",
   "execution_count": 15,
   "id": "77602861",
   "metadata": {},
   "outputs": [
    {
     "name": "stdout",
     "output_type": "stream",
     "text": [
      "[1 2 3 4 5 6 7]\n"
     ]
    }
   ],
   "source": [
    "import numpy as np\n",
    "\n",
    "# Creando un set con un array\n",
    "mi_array = np.arange (1,8)\n",
    "print (mi_array)"
   ]
  }
 ],
 "metadata": {
  "kernelspec": {
   "display_name": ".venv",
   "language": "python",
   "name": "python3"
  },
  "language_info": {
   "codemirror_mode": {
    "name": "ipython",
    "version": 3
   },
   "file_extension": ".py",
   "mimetype": "text/x-python",
   "name": "python",
   "nbconvert_exporter": "python",
   "pygments_lexer": "ipython3",
   "version": "3.10.11"
  }
 },
 "nbformat": 4,
 "nbformat_minor": 5
}
