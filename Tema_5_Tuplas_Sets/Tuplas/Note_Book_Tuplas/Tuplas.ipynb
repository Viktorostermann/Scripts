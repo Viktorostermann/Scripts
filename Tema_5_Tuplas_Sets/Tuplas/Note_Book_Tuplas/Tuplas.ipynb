{
 "cells": [
  {
   "cell_type": "markdown",
   "id": "f7339d5a",
   "metadata": {},
   "source": [
    "Las tuplas son elementos inmutables, es decir, no se pueden modificar.\n",
    "\n",
    "\"1- No permiten añadir, eliminar, o mover elementos de la tupla. \"\n",
    "\"(append, remove, insert, pop, del, clear, etc.) \"\n",
    "\"2- Permite extraer porciones pero eso da como resultado una tupla nueva\"\n",
    "\"3- Permiten comprobar si un elemento se encuentra en la tupla\"\n",
    "\"4- Las tuplas son mas rapidas que las listas\"\n",
    "\"5- Las tuplas ocupan menos espacio en memoria que las listas\"\n",
    "\"6- Las tuplas son mas seguras que las listas\"\n",
    "\"7- Las tuplas ocupan menos espacio en memoria que las listas\" (\"Si requerimos guardar\" \\\n",
    "\"muchos elementos en una sola variable, y en el futuro solo queremos recorrerlos para verlos es mejor usar tuplas\")\n",
    "\"8- Las tuplas Pueden ser como llaves de un diccionario\""
   ]
  },
  {
   "cell_type": "markdown",
   "id": "de0cdcd9",
   "metadata": {},
   "source": [
    "Ejercicios Hoja 5A:"
   ]
  },
  {
   "cell_type": "markdown",
   "id": "e710da59",
   "metadata": {},
   "source": [
    "1. Crea una tupla con 3 elementos he imprime por pantalla cada uno de ellos en una nueva linea"
   ]
  },
  {
   "cell_type": "code",
   "execution_count": 44,
   "id": "832195e1",
   "metadata": {},
   "outputs": [
    {
     "name": "stdout",
     "output_type": "stream",
     "text": [
      "Victor, 45, Abril, True, El tipo de elemento de la tupla es: <class 'tuple'>  "
     ]
    }
   ],
   "source": [
    "mi_tupla = (\"Victor\", 45, \"Abril\", True)\n",
    "for elemento in mi_tupla:\n",
    "    print(f\"{elemento},\" , end=\" \")\n",
    "print(f\"El tipo de elemento de la tupla es: {type(mi_tupla)} \" , end=\" \")"
   ]
  },
  {
   "cell_type": "code",
   "execution_count": 32,
   "id": "6f54bb75",
   "metadata": {},
   "outputs": [
    {
     "name": "stdout",
     "output_type": "stream",
     "text": [
      "1  2  3  4  5  6  \n",
      "\n",
      "El tipo de dato de la tupla es: <class 'tuple'>\n"
     ]
    }
   ],
   "source": [
    "tupla_2 = (1, 2, 3, 4, 5, 6)\n",
    "for objeto in tupla_2:\n",
    "    # Imprimimos los objetos de la tupla uno a uno en la misma línea sin salto de línea \n",
    "    print(f\"{objeto} \", end=' ')\n",
    "print(\"\\n\")\n",
    "print(\"El tipo de dato de la tupla es:\", type(tupla_2)) "
   ]
  },
  {
   "cell_type": "markdown",
   "id": "98bc67ba",
   "metadata": {},
   "source": [
    "2. Crea una lista con 3 elementos e intenta modificar el valor de un elemento de la lista. Haz lo mismo con la Tupla. ¿Cuales son las diferencias?"
   ]
  },
  {
   "cell_type": "code",
   "execution_count": null,
   "id": "39939402",
   "metadata": {},
   "outputs": [
    {
     "name": "stdout",
     "output_type": "stream",
     "text": [
      "['alfa', 'b', 'c']\n"
     ]
    },
    {
     "ename": "TypeError",
     "evalue": "'tuple' object does not support item assignment",
     "output_type": "error",
     "traceback": [
      "\u001b[1;31m---------------------------------------------------------------------------\u001b[0m",
      "\u001b[1;31mTypeError\u001b[0m                                 Traceback (most recent call last)",
      "Cell \u001b[1;32mIn[2], line 6\u001b[0m\n\u001b[0;32m      3\u001b[0m \u001b[38;5;28mprint\u001b[39m(mi_lista)\n\u001b[0;32m      5\u001b[0m mi_tupla \u001b[38;5;241m=\u001b[39m (\u001b[38;5;124m\"\u001b[39m\u001b[38;5;124ma\u001b[39m\u001b[38;5;124m\"\u001b[39m, \u001b[38;5;124m\"\u001b[39m\u001b[38;5;124mb\u001b[39m\u001b[38;5;124m\"\u001b[39m, \u001b[38;5;124m\"\u001b[39m\u001b[38;5;124mc\u001b[39m\u001b[38;5;124m\"\u001b[39m,)\n\u001b[1;32m----> 6\u001b[0m \u001b[43mmi_tupla\u001b[49m\u001b[43m \u001b[49m\u001b[43m[\u001b[49m\u001b[38;5;241;43m0\u001b[39;49m\u001b[43m]\u001b[49m \u001b[38;5;241m=\u001b[39m \u001b[38;5;124m\"\u001b[39m\u001b[38;5;124malfa\u001b[39m\u001b[38;5;124m\"\u001b[39m\n\u001b[0;32m      7\u001b[0m \u001b[38;5;28mprint\u001b[39m(mi_tupla)\n",
      "\u001b[1;31mTypeError\u001b[0m: 'tuple' object does not support item assignment"
     ]
    }
   ],
   "source": [
    "mi_lista = [\"a\", \"b\", \"c\",]\n",
    "mi_lista [0] = \"alfa\"\n",
    "print(mi_lista)\n",
    "\n",
    "mi_tupla = (\"a\", \"b\", \"c\",)\n",
    "mi_tupla [0] = \"alfa\"\n",
    "print(mi_tupla)"
   ]
  },
  {
   "cell_type": "markdown",
   "id": "991f57c2",
   "metadata": {},
   "source": [
    "3. Crea una tupla de enteros y devuelve la suma de los elementos de la tupla.\n"
   ]
  },
  {
   "cell_type": "code",
   "execution_count": 3,
   "id": "814c6936",
   "metadata": {},
   "outputs": [
    {
     "name": "stdout",
     "output_type": "stream",
     "text": [
      "6\n"
     ]
    }
   ],
   "source": [
    "tupla = (1,2,3)\n",
    "suma = 0\n",
    "for i in tupla:\n",
    "    suma += i\n",
    "print(suma)"
   ]
  },
  {
   "cell_type": "code",
   "execution_count": 6,
   "id": "9af63ddc",
   "metadata": {},
   "outputs": [
    {
     "name": "stdout",
     "output_type": "stream",
     "text": [
      "6\n"
     ]
    }
   ],
   "source": [
    "tupla = (1,2,3)\n",
    "suma = 0\n",
    "suma = sum(tupla) \n",
    "print(suma)"
   ]
  },
  {
   "cell_type": "markdown",
   "id": "3da9c409",
   "metadata": {},
   "source": [
    "4. Crea un scrip que dada una tupla que contiene strings cree una nueva tupla con el primer caracter de cada string de la tupla."
   ]
  },
  {
   "cell_type": "code",
   "execution_count": 8,
   "id": "f874b4df",
   "metadata": {},
   "outputs": [
    {
     "name": "stdout",
     "output_type": "stream",
     "text": [
      "('M', 'P', 'N')\n",
      "('M', 'P', 'N')\n"
     ]
    }
   ],
   "source": [
    "mi_tupla = (\"Manzana\", \"Platano\", \"Naranja\")\n",
    "lista = []\n",
    "for Strings in mi_tupla:\n",
    "    lista.append(Strings[0])\n",
    "mi_nueva_tupla = tuple(lista)\n",
    "print(mi_nueva_tupla)\n",
    "\n",
    "# Otra forma de hacerlo es con list comprehensions\n",
    "mi_nueva_tupla2 = tuple(Strings[0] for Strings in mi_tupla)\n",
    "print(mi_nueva_tupla2)"
   ]
  },
  {
   "cell_type": "markdown",
   "id": "4d09fc06",
   "metadata": {},
   "source": [
    "5. Crea un script que dada una tupla de numeros devuelva el producto de todos los numeros pares."
   ]
  },
  {
   "cell_type": "code",
   "execution_count": 57,
   "id": "bf56dcc8",
   "metadata": {},
   "outputs": [
    {
     "name": "stdout",
     "output_type": "stream",
     "text": [
      "2 * 4 * 6 * El producto de los números pares es: 48\n"
     ]
    }
   ],
   "source": [
    "tupla_numeros = (1, 2, 3, 4, 5, 6)\n",
    "producto = 1\n",
    "for numeros in tupla_numeros:\n",
    "    if numeros % 2 == 0:\n",
    "        producto = producto * numeros\n",
    "        print(f\"{numeros}\", end=' * ')\n",
    "print(\"El producto de los números pares es:\", producto)\n"
   ]
  },
  {
   "cell_type": "markdown",
   "id": "cc562541",
   "metadata": {},
   "source": [
    "6. Crea un script que dada una tupla de números, devuelva la tupla con los números ordenados en orden descendente."
   ]
  },
  {
   "cell_type": "code",
   "execution_count": null,
   "id": "af6f973e",
   "metadata": {},
   "outputs": [
    {
     "name": "stdout",
     "output_type": "stream",
     "text": [
      "Tupla Ascendente: (1, 2, 3, 4, 5, 6)\n",
      "Tupla descendente: (6, 5, 4, 3, 2, 1)\n"
     ]
    }
   ],
   "source": [
    "mi_tupla = (1, 2, 3, 4, 5, 6)\n",
    "mi_tupla = tuple(sorted(mi_tupla))\n",
    "print(\"Tupla Ascendente:\", mi_tupla)\n",
    "mi_tupla = tuple(reversed(mi_tupla))\n",
    "print(\"Tupla Descendente:\", mi_tupla)\n"
   ]
  },
  {
   "cell_type": "markdown",
   "id": "1dcab2fe",
   "metadata": {},
   "source": [
    "7. Cre un script que dada una tupla de números enteros repetidos, elimine los duplicados y muestre la tupla resultante. (Puedes usar sets para resolver este ejercicio)."
   ]
  },
  {
   "cell_type": "code",
   "execution_count": 70,
   "id": "75b361ea",
   "metadata": {},
   "outputs": [
    {
     "name": "stdout",
     "output_type": "stream",
     "text": [
      "Ejemplo 1, Tupla original sin (Set): (1, 1, 2, 3, 4, 4, 5, 6, 6)\n",
      "\n",
      "Ejemplo 2: {1, 2, 3, 4, 5, 6}\n",
      "\n",
      "Ejemtuplo 3: (1, 2, 3, 4, 5, 6) o tambien (1, 2, 3, 4, 5, 6)\n",
      "\n",
      "Ejemplo 4: (1, 2, 3, 4, 5, 6)\n",
      "\n"
     ]
    }
   ],
   "source": [
    "mi_tupla = (1, 1, 2, 3, 4, 4, 5, 6, 6)\n",
    "print(f\"Ejemplo 1, Tupla original sin (Set): {mi_tupla}\")\n",
    "print(\"\")\n",
    "\n",
    "# Forma 1: Convertimos la tupla a un (set = setear) para eliminar los elementos repetidos luego\n",
    "mi_set = set(mi_tupla)\n",
    "print(f\"Ejemplo 2: {mi_set}\")\n",
    "print(\"\")\n",
    "\n",
    "# Forma 2: Creamos un parametro para guardar la tupla y eliminar los elementos repetidos con (set = setear)\n",
    "tupla_sin_repetido = tuple((mi_set))\n",
    "print(f\"Ejemtuplo 3: {tupla_sin_repetido} o tambien\",tupla_sin_repetido)\n",
    "print(\"\")\n",
    "\n",
    "# Forma 3: Usando la funcion (set = setear) para eliminar los elementos repetidos de una tupla\n",
    "tupla_sin_repetido = tuple(set(mi_tupla))\n",
    "print(f\"Ejemplo 4: {tupla_sin_repetido}\")\n",
    "print(\"\")\n"
   ]
  },
  {
   "cell_type": "markdown",
   "id": "1954e4a5",
   "metadata": {},
   "source": [
    "8. Crea un script que dada una tupla y un numero entero, devuelve verdadero si el numero se encuentra en la tupla y falso en caso contrario."
   ]
  },
  {
   "cell_type": "code",
   "execution_count": 117,
   "id": "bcc74e77",
   "metadata": {},
   "outputs": [
    {
     "name": "stdout",
     "output_type": "stream",
     "text": [
      "La busqueda es False \n",
      "El resultado de la busqueda es {False}\n"
     ]
    }
   ],
   "source": [
    "mi_tupla = (1, 1.1, 2, 2.2, 3, 3.3, 4, 4.4, 5, 5.5, 6, 6.6)\n",
    "\n",
    "# Verificamos si un elemento está en la tupla\n",
    "target = 8\n",
    "retorno = target in mi_tupla\n",
    "# Imprimimos el resultado\n",
    "print(f\"La busqueda es {retorno} \")\n",
    "\n",
    "# Otra forma de hacerlo\n",
    "if target == retorno:\n",
    "    print(\"El resultado de la busqueda es {True}\")\n",
    "else:\n",
    "    print(\"El resultado de la busqueda es {False}\")"
   ]
  },
  {
   "cell_type": "markdown",
   "id": "6cef608d",
   "metadata": {},
   "source": [
    "9. Crea un Script que dadas dos Tuplas cree una Tupla resultante de la union de ambas."
   ]
  },
  {
   "cell_type": "code",
   "execution_count": 118,
   "id": "5a8d1c8e",
   "metadata": {},
   "outputs": [
    {
     "name": "stdout",
     "output_type": "stream",
     "text": [
      "(1, 2, 3, 4, 5, 6)\n"
     ]
    }
   ],
   "source": [
    "mi_tupla_1 = (1,2,3)\n",
    "mi_tupla_2 = (4,5,6)\n",
    "tupla_3 = mi_tupla_1 + mi_tupla_2\n",
    "print(tupla_3)\n"
   ]
  },
  {
   "cell_type": "markdown",
   "id": "f63ecd8e",
   "metadata": {},
   "source": [
    "10. Crea un Script que dada una Tupla de números, devuelva el máximo y el mínimo."
   ]
  },
  {
   "cell_type": "code",
   "execution_count": 119,
   "id": "0aa03c27",
   "metadata": {},
   "outputs": [
    {
     "name": "stdout",
     "output_type": "stream",
     "text": [
      "El valor mínimo de la tupla es: 1\n",
      "El valor máximo de la tupla es: 6\n"
     ]
    }
   ],
   "source": [
    "mi_tupla = (1, 2, 3, 4, 5, 6)\n",
    "\n",
    "minimo = min(mi_tupla)\n",
    "maximo = max(mi_tupla)\n",
    "print(\"El valor mínimo de la tupla es:\", minimo)\n",
    "print(\"El valor máximo de la tupla es:\", maximo)"
   ]
  },
  {
   "cell_type": "markdown",
   "id": "9f17ec72",
   "metadata": {},
   "source": [
    "11. Crea un Script que dada una Tupla con Strings devuelva el string más largo y más corto de la tupla. (Prueba añadiendo key=len a las funciones max y min)"
   ]
  },
  {
   "cell_type": "code",
   "execution_count": 122,
   "id": "9578ed34",
   "metadata": {},
   "outputs": [
    {
     "name": "stdout",
     "output_type": "stream",
     "text": [
      "Pera y Manzana\n"
     ]
    }
   ],
   "source": [
    "mi_tupla = \"Manzana\", \"Pera\", \"Fresa\"\n",
    "minimo = min(mi_tupla, key=len)\n",
    "maximo = max(mi_tupla, key=len)\n",
    "print(f\"{minimo} y {maximo}\")"
   ]
  },
  {
   "cell_type": "markdown",
   "id": "bb6f35bd",
   "metadata": {},
   "source": [
    "12. Crea un Script que dada una Tupla devuelva el contenido en oirden revertido o reverso."
   ]
  },
  {
   "cell_type": "code",
   "execution_count": 123,
   "id": "bc2684ff",
   "metadata": {},
   "outputs": [
    {
     "name": "stdout",
     "output_type": "stream",
     "text": [
      "Tupla invertida: (6, 5, 4, 3, 2, 1)\n"
     ]
    }
   ],
   "source": [
    "mi_tupla = (1, 2, 3, 4, 5, 6)\n",
    "\n",
    "mi_nueva_tupla = mi_tupla[::-1]  # Invertir la tupla\n",
    "print(\"Tupla invertida:\", mi_nueva_tupla)"
   ]
  },
  {
   "cell_type": "markdown",
   "id": "19bc3c16",
   "metadata": {},
   "source": [
    "13. Crea un Script que dada una Tupla de Tuplas, donde cada Tupla interna contiene doe elementos, devuelva una nueva tupla en la que cada elemento sea la suma de los dos elementos de la tupla interna correspondiente."
   ]
  },
  {
   "cell_type": "code",
   "execution_count": 126,
   "id": "a6048ad1",
   "metadata": {},
   "outputs": [
    {
     "name": "stdout",
     "output_type": "stream",
     "text": [
      "Sumas de tuplas: (3, 7, 11)\n",
      "Sumas de tuplas (list comprehension): (3, 7, 11)\n"
     ]
    }
   ],
   "source": [
    "mi_tupla = ((1,2) , (3,4), (5,6))\n",
    "mi_lista = []\n",
    "for tupla in mi_tupla:\n",
    "    suma = sum(tupla)\n",
    "    mi_lista.append(suma)\n",
    "mi_nueva_tupla = tuple(mi_lista)\n",
    "print(\"Sumas de tuplas:\", mi_nueva_tupla)\n",
    "\n",
    "# Otra forma de hacerlo con list comprehensions\n",
    "mi_nueva_tupla2 = tuple(sum(tupla) for tupla in mi_tupla)\n",
    "print(\"Sumas de tuplas (list comprehension):\", mi_nueva_tupla2)"
   ]
  },
  {
   "cell_type": "markdown",
   "id": "345c36c1",
   "metadata": {},
   "source": [
    "14. Crea un Scrip que dado un set de numeros enteros devuelva el producto de todos los números dentro del set."
   ]
  },
  {
   "cell_type": "code",
   "execution_count": 127,
   "id": "190e402d",
   "metadata": {},
   "outputs": [
    {
     "name": "stdout",
     "output_type": "stream",
     "text": [
      "El producto de los elementos del set es: 24\n"
     ]
    }
   ],
   "source": [
    "set_1 = {1, 2, 3, 4}\n",
    "\n",
    "producto = 1\n",
    "for x in set_1:\n",
    "    producto = producto * x\n",
    "print(\"El producto de los elementos del set es:\", producto)"
   ]
  },
  {
   "cell_type": "code",
   "execution_count": 3,
   "id": "69cf9bc4",
   "metadata": {},
   "outputs": [
    {
     "name": "stdout",
     "output_type": "stream",
     "text": [
      "{1, 2, 4}\n"
     ]
    }
   ],
   "source": [
    "mi_set = {1,1,2,4}\n",
    "print(mi_set)"
   ]
  }
 ],
 "metadata": {
  "kernelspec": {
   "display_name": ".venv",
   "language": "python",
   "name": "python3"
  },
  "language_info": {
   "codemirror_mode": {
    "name": "ipython",
    "version": 3
   },
   "file_extension": ".py",
   "mimetype": "text/x-python",
   "name": "python",
   "nbconvert_exporter": "python",
   "pygments_lexer": "ipython3",
   "version": "3.10.11"
  }
 },
 "nbformat": 4,
 "nbformat_minor": 5
}
