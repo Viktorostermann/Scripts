{
 "cells": [
  {
   "cell_type": "markdown",
   "id": "736eb90e",
   "metadata": {},
   "source": [
    "REGISTRO DE VENTAS:"
   ]
  },
  {
   "cell_type": "markdown",
   "id": "6a80ea71",
   "metadata": {},
   "source": [
    "1. Tienes una tienda y deseas realizar un seguimiento de las ventas diarias \n",
    "de tus productos. Cada producto tiene un nombre y una cantidad \n",
    "vendida. Implementa un programa en Python que utilice un diccionario \n",
    "para almacenar la información de las ventas. El programa debe permitir \n",
    "registrar las ventas de productos, actualizar la cantidad vendida de un \n",
    "producto existente y calcular el total de ventas diarias.\n",
    " (Pista: puedes comenzar con un diccionario vacío e ir añadiendo cada \n",
    "producto) "
   ]
  },
  {
   "cell_type": "code",
   "execution_count": 15,
   "id": "c9a7280f",
   "metadata": {},
   "outputs": [
    {
     "name": "stdout",
     "output_type": "stream",
     "text": [
      "Ventas registradas: {'Producto1': 10, 'Producto2': 5, 'Producto3': 3}\n",
      " \n",
      "Ventas actualizadas: {'Producto1': 10, 'Producto2': 7, 'Producto3': 3}\n",
      "\n",
      "Registro de ventas:\n",
      "Producto1:10\n",
      "Producto2:7\n",
      "Producto3:3\n",
      "Total de ventas diarias:20\n"
     ]
    }
   ],
   "source": [
    "# Diccionario de ventas\n",
    "ventas = {} # Diccionario vacío\n",
    "\n",
    "# registrar las ventas\n",
    "ventas[\"Producto1\"] = 10  # Producto1 es la clave del diccionario asignado a 10 que es el valor del diccionario\n",
    "ventas[\"Producto2\"] = 5   # Producto2 es la clave del diccionario asignado a 5 que es el valor del diccionario\n",
    "ventas[\"Producto3\"] = 3   # Producto3 es la clave del diccionario asignado a 3 que es el valor del diccionario\n",
    "\n",
    "print(\"Ventas registradas:\", ventas)\n",
    "print(\" \")\n",
    "# Actualizar cantidad vendida de un producto existente\n",
    "#ventas[\"Producto2\"] = ventas[\"Producto2\"] + 2  # Version extendida\n",
    "ventas[\"Producto2\"] += 2  # Version reducida\n",
    "print(\"Ventas actualizadas:\", ventas)\n",
    "\n",
    "# Calcular el total de ventas diarias\n",
    "total_ventas = sum(ventas.values()) # Sumar los valores del diccionario\n",
    "print(\"\")\n",
    "\n",
    "# Imprimir el registro de ventas y el total de ventas diarias\n",
    "print(\"Registro de ventas:\")\n",
    "for producto, cantidad in ventas.items(): # Iterar sobre las claves y valores del diccionario\n",
    "    print(producto + \":\" + str(cantidad)) # Imprimir el producto y la cantidad vendida\n",
    "\n",
    "print(\"Total de ventas diarias:\" + str(total_ventas)) # Imprimir el total de ventas diarias\n",
    "\n"
   ]
  }
 ],
 "metadata": {
  "kernelspec": {
   "display_name": ".venv",
   "language": "python",
   "name": "python3"
  },
  "language_info": {
   "codemirror_mode": {
    "name": "ipython",
    "version": 3
   },
   "file_extension": ".py",
   "mimetype": "text/x-python",
   "name": "python",
   "nbconvert_exporter": "python",
   "pygments_lexer": "ipython3",
   "version": "3.10.11"
  }
 },
 "nbformat": 4,
 "nbformat_minor": 5
}
